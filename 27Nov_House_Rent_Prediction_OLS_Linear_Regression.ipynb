{
 "cells": [
  {
   "cell_type": "markdown",
   "id": "be4ed380",
   "metadata": {},
   "source": [
    "#### Import the libraries"
   ]
  },
  {
   "cell_type": "code",
   "execution_count": 2,
   "id": "f093ce82",
   "metadata": {},
   "outputs": [],
   "source": [
    "import numpy as np\n",
    "import pandas as pd\n",
    "import matplotlib.pyplot as plt\n",
    "import seaborn as sns"
   ]
  },
  {
   "cell_type": "markdown",
   "id": "03c32f6f",
   "metadata": {},
   "source": [
    "#### Read the dataset"
   ]
  },
  {
   "cell_type": "code",
   "execution_count": 3,
   "id": "23efa947",
   "metadata": {},
   "outputs": [
    {
     "data": {
      "text/html": [
       "<div>\n",
       "<style scoped>\n",
       "    .dataframe tbody tr th:only-of-type {\n",
       "        vertical-align: middle;\n",
       "    }\n",
       "\n",
       "    .dataframe tbody tr th {\n",
       "        vertical-align: top;\n",
       "    }\n",
       "\n",
       "    .dataframe thead th {\n",
       "        text-align: right;\n",
       "    }\n",
       "</style>\n",
       "<table border=\"1\" class=\"dataframe\">\n",
       "  <thead>\n",
       "    <tr style=\"text-align: right;\">\n",
       "      <th></th>\n",
       "      <th>Posted On</th>\n",
       "      <th>BHK</th>\n",
       "      <th>Rent</th>\n",
       "      <th>Size</th>\n",
       "      <th>Floor</th>\n",
       "      <th>Area Type</th>\n",
       "      <th>Area Locality</th>\n",
       "      <th>City</th>\n",
       "      <th>Furnishing Status</th>\n",
       "      <th>Tenant Preferred</th>\n",
       "      <th>Bathroom</th>\n",
       "      <th>Point of Contact</th>\n",
       "    </tr>\n",
       "  </thead>\n",
       "  <tbody>\n",
       "    <tr>\n",
       "      <th>0</th>\n",
       "      <td>2022-05-18</td>\n",
       "      <td>2</td>\n",
       "      <td>10000</td>\n",
       "      <td>1100</td>\n",
       "      <td>Ground out of 2</td>\n",
       "      <td>Super Area</td>\n",
       "      <td>Bandel</td>\n",
       "      <td>Kolkata</td>\n",
       "      <td>Unfurnished</td>\n",
       "      <td>Bachelors/Family</td>\n",
       "      <td>2</td>\n",
       "      <td>Contact Owner</td>\n",
       "    </tr>\n",
       "    <tr>\n",
       "      <th>1</th>\n",
       "      <td>2022-05-13</td>\n",
       "      <td>2</td>\n",
       "      <td>20000</td>\n",
       "      <td>800</td>\n",
       "      <td>1 out of 3</td>\n",
       "      <td>Super Area</td>\n",
       "      <td>Phool Bagan, Kankurgachi</td>\n",
       "      <td>Kolkata</td>\n",
       "      <td>Semi-Furnished</td>\n",
       "      <td>Bachelors/Family</td>\n",
       "      <td>1</td>\n",
       "      <td>Contact Owner</td>\n",
       "    </tr>\n",
       "    <tr>\n",
       "      <th>2</th>\n",
       "      <td>2022-05-16</td>\n",
       "      <td>2</td>\n",
       "      <td>17000</td>\n",
       "      <td>1000</td>\n",
       "      <td>1 out of 3</td>\n",
       "      <td>Super Area</td>\n",
       "      <td>Salt Lake City Sector 2</td>\n",
       "      <td>Kolkata</td>\n",
       "      <td>Semi-Furnished</td>\n",
       "      <td>Bachelors/Family</td>\n",
       "      <td>1</td>\n",
       "      <td>Contact Owner</td>\n",
       "    </tr>\n",
       "    <tr>\n",
       "      <th>3</th>\n",
       "      <td>2022-07-04</td>\n",
       "      <td>2</td>\n",
       "      <td>10000</td>\n",
       "      <td>800</td>\n",
       "      <td>1 out of 2</td>\n",
       "      <td>Super Area</td>\n",
       "      <td>Dumdum Park</td>\n",
       "      <td>Kolkata</td>\n",
       "      <td>Unfurnished</td>\n",
       "      <td>Bachelors/Family</td>\n",
       "      <td>1</td>\n",
       "      <td>Contact Owner</td>\n",
       "    </tr>\n",
       "    <tr>\n",
       "      <th>4</th>\n",
       "      <td>2022-05-09</td>\n",
       "      <td>2</td>\n",
       "      <td>7500</td>\n",
       "      <td>850</td>\n",
       "      <td>1 out of 2</td>\n",
       "      <td>Carpet Area</td>\n",
       "      <td>South Dum Dum</td>\n",
       "      <td>Kolkata</td>\n",
       "      <td>Unfurnished</td>\n",
       "      <td>Bachelors</td>\n",
       "      <td>1</td>\n",
       "      <td>Contact Owner</td>\n",
       "    </tr>\n",
       "  </tbody>\n",
       "</table>\n",
       "</div>"
      ],
      "text/plain": [
       "    Posted On  BHK   Rent  Size            Floor    Area Type  \\\n",
       "0  2022-05-18    2  10000  1100  Ground out of 2   Super Area   \n",
       "1  2022-05-13    2  20000   800       1 out of 3   Super Area   \n",
       "2  2022-05-16    2  17000  1000       1 out of 3   Super Area   \n",
       "3  2022-07-04    2  10000   800       1 out of 2   Super Area   \n",
       "4  2022-05-09    2   7500   850       1 out of 2  Carpet Area   \n",
       "\n",
       "              Area Locality     City Furnishing Status  Tenant Preferred  \\\n",
       "0                    Bandel  Kolkata       Unfurnished  Bachelors/Family   \n",
       "1  Phool Bagan, Kankurgachi  Kolkata    Semi-Furnished  Bachelors/Family   \n",
       "2   Salt Lake City Sector 2  Kolkata    Semi-Furnished  Bachelors/Family   \n",
       "3               Dumdum Park  Kolkata       Unfurnished  Bachelors/Family   \n",
       "4             South Dum Dum  Kolkata       Unfurnished         Bachelors   \n",
       "\n",
       "   Bathroom Point of Contact  \n",
       "0         2    Contact Owner  \n",
       "1         1    Contact Owner  \n",
       "2         1    Contact Owner  \n",
       "3         1    Contact Owner  \n",
       "4         1    Contact Owner  "
      ]
     },
     "execution_count": 3,
     "metadata": {},
     "output_type": "execute_result"
    }
   ],
   "source": [
    "df = pd.read_csv('House_Rent_Dataset.csv')\n",
    "df.head()"
   ]
  },
  {
   "cell_type": "code",
   "execution_count": 4,
   "id": "6c220fde",
   "metadata": {},
   "outputs": [
    {
     "data": {
      "text/plain": [
       "(4746, 12)"
      ]
     },
     "execution_count": 4,
     "metadata": {},
     "output_type": "execute_result"
    }
   ],
   "source": [
    "df.shape\n",
    "# rows = 4746, cols = 12"
   ]
  },
  {
   "cell_type": "markdown",
   "id": "05f2bfd3",
   "metadata": {},
   "source": [
    "### Data preprocessing\n"
   ]
  },
  {
   "cell_type": "markdown",
   "id": "83c2e7f7",
   "metadata": {},
   "source": [
    "#### 1) Create a function to return a dataframe containing columns, count of null values and percentage of null values for each column"
   ]
  },
  {
   "cell_type": "code",
   "execution_count": 5,
   "id": "b0834835",
   "metadata": {},
   "outputs": [],
   "source": [
    "def fetch_count_and_percent_of_null(data):  # data is df\n",
    "    nv = data.isnull().sum()  # nv = null values\n",
    "#     nv = nv[nv>0]\n",
    "    res = pd.DataFrame({'Feature':nv.index,'Count_Null':nv.values,\n",
    "                       'Percent_Null':(nv.values/data.shape[0])*100})\n",
    "    res = res.sort_values('Percent_Null',ascending=False)\n",
    "    return res"
   ]
  },
  {
   "cell_type": "code",
   "execution_count": 6,
   "id": "2e4002b7",
   "metadata": {},
   "outputs": [
    {
     "data": {
      "text/html": [
       "<div>\n",
       "<style scoped>\n",
       "    .dataframe tbody tr th:only-of-type {\n",
       "        vertical-align: middle;\n",
       "    }\n",
       "\n",
       "    .dataframe tbody tr th {\n",
       "        vertical-align: top;\n",
       "    }\n",
       "\n",
       "    .dataframe thead th {\n",
       "        text-align: right;\n",
       "    }\n",
       "</style>\n",
       "<table border=\"1\" class=\"dataframe\">\n",
       "  <thead>\n",
       "    <tr style=\"text-align: right;\">\n",
       "      <th></th>\n",
       "      <th>Feature</th>\n",
       "      <th>Count_Null</th>\n",
       "      <th>Percent_Null</th>\n",
       "    </tr>\n",
       "  </thead>\n",
       "  <tbody>\n",
       "    <tr>\n",
       "      <th>0</th>\n",
       "      <td>Posted On</td>\n",
       "      <td>0</td>\n",
       "      <td>0.0</td>\n",
       "    </tr>\n",
       "    <tr>\n",
       "      <th>1</th>\n",
       "      <td>BHK</td>\n",
       "      <td>0</td>\n",
       "      <td>0.0</td>\n",
       "    </tr>\n",
       "    <tr>\n",
       "      <th>2</th>\n",
       "      <td>Rent</td>\n",
       "      <td>0</td>\n",
       "      <td>0.0</td>\n",
       "    </tr>\n",
       "    <tr>\n",
       "      <th>3</th>\n",
       "      <td>Size</td>\n",
       "      <td>0</td>\n",
       "      <td>0.0</td>\n",
       "    </tr>\n",
       "    <tr>\n",
       "      <th>4</th>\n",
       "      <td>Floor</td>\n",
       "      <td>0</td>\n",
       "      <td>0.0</td>\n",
       "    </tr>\n",
       "    <tr>\n",
       "      <th>5</th>\n",
       "      <td>Area Type</td>\n",
       "      <td>0</td>\n",
       "      <td>0.0</td>\n",
       "    </tr>\n",
       "    <tr>\n",
       "      <th>6</th>\n",
       "      <td>Area Locality</td>\n",
       "      <td>0</td>\n",
       "      <td>0.0</td>\n",
       "    </tr>\n",
       "    <tr>\n",
       "      <th>7</th>\n",
       "      <td>City</td>\n",
       "      <td>0</td>\n",
       "      <td>0.0</td>\n",
       "    </tr>\n",
       "    <tr>\n",
       "      <th>8</th>\n",
       "      <td>Furnishing Status</td>\n",
       "      <td>0</td>\n",
       "      <td>0.0</td>\n",
       "    </tr>\n",
       "    <tr>\n",
       "      <th>9</th>\n",
       "      <td>Tenant Preferred</td>\n",
       "      <td>0</td>\n",
       "      <td>0.0</td>\n",
       "    </tr>\n",
       "    <tr>\n",
       "      <th>10</th>\n",
       "      <td>Bathroom</td>\n",
       "      <td>0</td>\n",
       "      <td>0.0</td>\n",
       "    </tr>\n",
       "    <tr>\n",
       "      <th>11</th>\n",
       "      <td>Point of Contact</td>\n",
       "      <td>0</td>\n",
       "      <td>0.0</td>\n",
       "    </tr>\n",
       "  </tbody>\n",
       "</table>\n",
       "</div>"
      ],
      "text/plain": [
       "              Feature  Count_Null  Percent_Null\n",
       "0           Posted On           0           0.0\n",
       "1                 BHK           0           0.0\n",
       "2                Rent           0           0.0\n",
       "3                Size           0           0.0\n",
       "4               Floor           0           0.0\n",
       "5           Area Type           0           0.0\n",
       "6       Area Locality           0           0.0\n",
       "7                City           0           0.0\n",
       "8   Furnishing Status           0           0.0\n",
       "9    Tenant Preferred           0           0.0\n",
       "10           Bathroom           0           0.0\n",
       "11   Point of Contact           0           0.0"
      ]
     },
     "execution_count": 6,
     "metadata": {},
     "output_type": "execute_result"
    }
   ],
   "source": [
    "fetch_count_and_percent_of_null(df)"
   ]
  },
  {
   "cell_type": "markdown",
   "id": "486c11e5",
   "metadata": {},
   "source": [
    "#### Handle Duplicates"
   ]
  },
  {
   "cell_type": "code",
   "execution_count": 7,
   "id": "30fb376d",
   "metadata": {},
   "outputs": [
    {
     "data": {
      "text/plain": [
       "0"
      ]
     },
     "execution_count": 7,
     "metadata": {},
     "output_type": "execute_result"
    }
   ],
   "source": [
    "df.duplicated().sum()"
   ]
  },
  {
   "cell_type": "markdown",
   "id": "fd2218ea",
   "metadata": {},
   "source": [
    "#### Check data types"
   ]
  },
  {
   "cell_type": "code",
   "execution_count": 8,
   "id": "7f7269ae",
   "metadata": {},
   "outputs": [
    {
     "data": {
      "text/plain": [
       "Posted On            object\n",
       "BHK                   int64\n",
       "Rent                  int64\n",
       "Size                  int64\n",
       "Floor                object\n",
       "Area Type            object\n",
       "Area Locality        object\n",
       "City                 object\n",
       "Furnishing Status    object\n",
       "Tenant Preferred     object\n",
       "Bathroom              int64\n",
       "Point of Contact     object\n",
       "dtype: object"
      ]
     },
     "execution_count": 8,
     "metadata": {},
     "output_type": "execute_result"
    }
   ],
   "source": [
    "df.dtypes"
   ]
  },
  {
   "cell_type": "code",
   "execution_count": 9,
   "id": "99c42ad7",
   "metadata": {},
   "outputs": [],
   "source": [
    "df['Posted On'] = pd.to_datetime(df['Posted On'])"
   ]
  },
  {
   "cell_type": "markdown",
   "id": "9ab9347e",
   "metadata": {},
   "source": [
    "#### Feature Engineering"
   ]
  },
  {
   "cell_type": "code",
   "execution_count": 10,
   "id": "74e5f95e",
   "metadata": {},
   "outputs": [
    {
     "data": {
      "text/html": [
       "<div>\n",
       "<style scoped>\n",
       "    .dataframe tbody tr th:only-of-type {\n",
       "        vertical-align: middle;\n",
       "    }\n",
       "\n",
       "    .dataframe tbody tr th {\n",
       "        vertical-align: top;\n",
       "    }\n",
       "\n",
       "    .dataframe thead th {\n",
       "        text-align: right;\n",
       "    }\n",
       "</style>\n",
       "<table border=\"1\" class=\"dataframe\">\n",
       "  <thead>\n",
       "    <tr style=\"text-align: right;\">\n",
       "      <th></th>\n",
       "      <th>Posted On</th>\n",
       "      <th>BHK</th>\n",
       "      <th>Rent</th>\n",
       "      <th>Size</th>\n",
       "      <th>Floor</th>\n",
       "      <th>Area Type</th>\n",
       "      <th>Area Locality</th>\n",
       "      <th>City</th>\n",
       "      <th>Furnishing Status</th>\n",
       "      <th>Tenant Preferred</th>\n",
       "      <th>Bathroom</th>\n",
       "      <th>Point of Contact</th>\n",
       "      <th>Year_Posted</th>\n",
       "      <th>Month_Posted</th>\n",
       "    </tr>\n",
       "  </thead>\n",
       "  <tbody>\n",
       "    <tr>\n",
       "      <th>0</th>\n",
       "      <td>2022-05-18</td>\n",
       "      <td>2</td>\n",
       "      <td>10000</td>\n",
       "      <td>1100</td>\n",
       "      <td>Ground out of 2</td>\n",
       "      <td>Super Area</td>\n",
       "      <td>Bandel</td>\n",
       "      <td>Kolkata</td>\n",
       "      <td>Unfurnished</td>\n",
       "      <td>Bachelors/Family</td>\n",
       "      <td>2</td>\n",
       "      <td>Contact Owner</td>\n",
       "      <td>2022</td>\n",
       "      <td>5</td>\n",
       "    </tr>\n",
       "    <tr>\n",
       "      <th>1</th>\n",
       "      <td>2022-05-13</td>\n",
       "      <td>2</td>\n",
       "      <td>20000</td>\n",
       "      <td>800</td>\n",
       "      <td>1 out of 3</td>\n",
       "      <td>Super Area</td>\n",
       "      <td>Phool Bagan, Kankurgachi</td>\n",
       "      <td>Kolkata</td>\n",
       "      <td>Semi-Furnished</td>\n",
       "      <td>Bachelors/Family</td>\n",
       "      <td>1</td>\n",
       "      <td>Contact Owner</td>\n",
       "      <td>2022</td>\n",
       "      <td>5</td>\n",
       "    </tr>\n",
       "    <tr>\n",
       "      <th>2</th>\n",
       "      <td>2022-05-16</td>\n",
       "      <td>2</td>\n",
       "      <td>17000</td>\n",
       "      <td>1000</td>\n",
       "      <td>1 out of 3</td>\n",
       "      <td>Super Area</td>\n",
       "      <td>Salt Lake City Sector 2</td>\n",
       "      <td>Kolkata</td>\n",
       "      <td>Semi-Furnished</td>\n",
       "      <td>Bachelors/Family</td>\n",
       "      <td>1</td>\n",
       "      <td>Contact Owner</td>\n",
       "      <td>2022</td>\n",
       "      <td>5</td>\n",
       "    </tr>\n",
       "    <tr>\n",
       "      <th>3</th>\n",
       "      <td>2022-07-04</td>\n",
       "      <td>2</td>\n",
       "      <td>10000</td>\n",
       "      <td>800</td>\n",
       "      <td>1 out of 2</td>\n",
       "      <td>Super Area</td>\n",
       "      <td>Dumdum Park</td>\n",
       "      <td>Kolkata</td>\n",
       "      <td>Unfurnished</td>\n",
       "      <td>Bachelors/Family</td>\n",
       "      <td>1</td>\n",
       "      <td>Contact Owner</td>\n",
       "      <td>2022</td>\n",
       "      <td>7</td>\n",
       "    </tr>\n",
       "    <tr>\n",
       "      <th>4</th>\n",
       "      <td>2022-05-09</td>\n",
       "      <td>2</td>\n",
       "      <td>7500</td>\n",
       "      <td>850</td>\n",
       "      <td>1 out of 2</td>\n",
       "      <td>Carpet Area</td>\n",
       "      <td>South Dum Dum</td>\n",
       "      <td>Kolkata</td>\n",
       "      <td>Unfurnished</td>\n",
       "      <td>Bachelors</td>\n",
       "      <td>1</td>\n",
       "      <td>Contact Owner</td>\n",
       "      <td>2022</td>\n",
       "      <td>5</td>\n",
       "    </tr>\n",
       "  </tbody>\n",
       "</table>\n",
       "</div>"
      ],
      "text/plain": [
       "   Posted On  BHK   Rent  Size            Floor    Area Type  \\\n",
       "0 2022-05-18    2  10000  1100  Ground out of 2   Super Area   \n",
       "1 2022-05-13    2  20000   800       1 out of 3   Super Area   \n",
       "2 2022-05-16    2  17000  1000       1 out of 3   Super Area   \n",
       "3 2022-07-04    2  10000   800       1 out of 2   Super Area   \n",
       "4 2022-05-09    2   7500   850       1 out of 2  Carpet Area   \n",
       "\n",
       "              Area Locality     City Furnishing Status  Tenant Preferred  \\\n",
       "0                    Bandel  Kolkata       Unfurnished  Bachelors/Family   \n",
       "1  Phool Bagan, Kankurgachi  Kolkata    Semi-Furnished  Bachelors/Family   \n",
       "2   Salt Lake City Sector 2  Kolkata    Semi-Furnished  Bachelors/Family   \n",
       "3               Dumdum Park  Kolkata       Unfurnished  Bachelors/Family   \n",
       "4             South Dum Dum  Kolkata       Unfurnished         Bachelors   \n",
       "\n",
       "   Bathroom Point of Contact  Year_Posted  Month_Posted  \n",
       "0         2    Contact Owner         2022             5  \n",
       "1         1    Contact Owner         2022             5  \n",
       "2         1    Contact Owner         2022             5  \n",
       "3         1    Contact Owner         2022             7  \n",
       "4         1    Contact Owner         2022             5  "
      ]
     },
     "execution_count": 10,
     "metadata": {},
     "output_type": "execute_result"
    }
   ],
   "source": [
    "df['Year_Posted'] = df['Posted On'].dt.year\n",
    "df['Month_Posted'] = df['Posted On'].dt.month\n",
    "df.head()"
   ]
  },
  {
   "cell_type": "code",
   "execution_count": 11,
   "id": "74dcf10f",
   "metadata": {},
   "outputs": [
    {
     "data": {
      "text/plain": [
       "Posted On            datetime64[ns]\n",
       "BHK                           int64\n",
       "Rent                          int64\n",
       "Size                          int64\n",
       "Floor                        object\n",
       "Area Type                    object\n",
       "Area Locality                object\n",
       "City                         object\n",
       "Furnishing Status            object\n",
       "Tenant Preferred             object\n",
       "Bathroom                      int64\n",
       "Point of Contact             object\n",
       "Year_Posted                   int64\n",
       "Month_Posted                  int64\n",
       "dtype: object"
      ]
     },
     "execution_count": 11,
     "metadata": {},
     "output_type": "execute_result"
    }
   ],
   "source": [
    "df.dtypes"
   ]
  },
  {
   "cell_type": "code",
   "execution_count": 12,
   "id": "590fbe57",
   "metadata": {},
   "outputs": [
    {
     "name": "stdout",
     "output_type": "stream",
     "text": [
      "Index(['Posted On', 'BHK', 'Rent', 'Size', 'Bathroom', 'Year_Posted',\n",
      "       'Month_Posted'],\n",
      "      dtype='object')\n",
      "Index(['Floor', 'Area Type', 'Area Locality', 'City', 'Furnishing Status',\n",
      "       'Tenant Preferred', 'Point of Contact'],\n",
      "      dtype='object')\n"
     ]
    }
   ],
   "source": [
    "num_cols = df.dtypes[df.dtypes!='object'].index\n",
    "cat_cols = df.dtypes[df.dtypes=='object'].index\n",
    "print(num_cols)\n",
    "print(cat_cols)"
   ]
  },
  {
   "cell_type": "markdown",
   "id": "eb3d5589",
   "metadata": {},
   "source": [
    "### EDA"
   ]
  },
  {
   "cell_type": "code",
   "execution_count": 13,
   "id": "59583f37",
   "metadata": {},
   "outputs": [
    {
     "name": "stdout",
     "output_type": "stream",
     "text": [
      "Feature Posted On | Unique Count 81\n",
      "Feature BHK | Unique Count 6\n",
      "Feature Rent | Unique Count 243\n",
      "Feature Size | Unique Count 615\n",
      "Feature Floor | Unique Count 480\n",
      "Feature Area Type | Unique Count 3\n",
      "Feature Area Locality | Unique Count 2235\n",
      "Feature City | Unique Count 6\n",
      "Feature Furnishing Status | Unique Count 3\n",
      "Feature Tenant Preferred | Unique Count 3\n",
      "Feature Bathroom | Unique Count 8\n",
      "Feature Point of Contact | Unique Count 3\n",
      "Feature Year_Posted | Unique Count 1\n",
      "Feature Month_Posted | Unique Count 4\n"
     ]
    }
   ],
   "source": [
    "for i in df.columns:\n",
    "    print(f'Feature {i} | Unique Count {df[i].nunique()}')"
   ]
  },
  {
   "cell_type": "markdown",
   "id": "223c5b86",
   "metadata": {},
   "source": [
    "#### Univariate Analysis"
   ]
  },
  {
   "cell_type": "markdown",
   "id": "56673768",
   "metadata": {},
   "source": [
    "#### 1) Countplot for Categorical Features"
   ]
  },
  {
   "cell_type": "code",
   "execution_count": 14,
   "id": "80406bba",
   "metadata": {},
   "outputs": [
    {
     "data": {
      "image/png": "[encoded data removed]",
      "text/plain": [
       "<Figure size 1200x2000 with 8 Axes>"
      ]
     },
     "metadata": {},
     "output_type": "display_data"
    }
   ],
   "source": [
    "cols = ['Area Type', 'City', 'Furnishing Status',\n",
    "       'Tenant Preferred', 'Point of Contact','BHK','Bathroom',\n",
    "        'Month_Posted']\n",
    "\n",
    "plt.figure(figsize=(12,20))\n",
    "for i in range(len(cols)):  # range(8)=> i=0,1,2,...7\n",
    "    plt.subplot(4,2,i+1)  # 4 = rows, 2 =cols\n",
    "    sns.countplot(x=df[cols[i]])\n",
    "    plt.title(f'Countplot for {cols[i]}')\n",
    "\n",
    "plt.tight_layout()\n",
    "plt.show()"
   ]
  },
  {
   "cell_type": "code",
   "execution_count": 15,
   "id": "cfb7c195",
   "metadata": {},
   "outputs": [
    {
     "data": {
      "text/plain": [
       "Index(['Posted On', 'BHK', 'Rent', 'Size', 'Bathroom', 'Year_Posted',\n",
       "       'Month_Posted'],\n",
       "      dtype='object')"
      ]
     },
     "execution_count": 15,
     "metadata": {},
     "output_type": "execute_result"
    }
   ],
   "source": [
    "num_cols"
   ]
  },
  {
   "cell_type": "code",
   "execution_count": 16,
   "id": "7bf8c67f",
   "metadata": {},
   "outputs": [
    {
     "data": {
      "image/png": "[encoded data removed]",
      "text/plain": [
       "<Figure size 1200x2000 with 5 Axes>"
      ]
     },
     "metadata": {},
     "output_type": "display_data"
    }
   ],
   "source": [
    "cols = ['BHK', 'Rent', 'Size', 'Bathroom','Month_Posted']\n",
    "\n",
    "plt.figure(figsize=(12,20))\n",
    "for i in range(len(cols)):   # range(8)=> i=0,1,2,...7\n",
    "    plt.subplot(3,2,i+1)     # 4 = rows, 2 =cols\n",
    "    sns.boxplot(x=df[cols[i]])\n",
    "    plt.title(f'Boxplot for {cols[i]}')\n",
    "\n",
    "plt.tight_layout()\n",
    "plt.show()"
   ]
  },
  {
   "cell_type": "code",
   "execution_count": 17,
   "id": "480184a3",
   "metadata": {},
   "outputs": [
    {
     "name": "stderr",
     "output_type": "stream",
     "text": [
      "C:\\Users\\Dell\\anaconda3\\lib\\site-packages\\seaborn\\distributions.py:2619: FutureWarning: `distplot` is a deprecated function and will be removed in a future version. Please adapt your code to use either `displot` (a figure-level function with similar flexibility) or `histplot` (an axes-level function for histograms).\n",
      "  warnings.warn(msg, FutureWarning)\n",
      "C:\\Users\\Dell\\anaconda3\\lib\\site-packages\\seaborn\\distributions.py:2619: FutureWarning: `distplot` is a deprecated function and will be removed in a future version. Please adapt your code to use either `displot` (a figure-level function with similar flexibility) or `histplot` (an axes-level function for histograms).\n",
      "  warnings.warn(msg, FutureWarning)\n",
      "C:\\Users\\Dell\\anaconda3\\lib\\site-packages\\seaborn\\distributions.py:2619: FutureWarning: `distplot` is a deprecated function and will be removed in a future version. Please adapt your code to use either `displot` (a figure-level function with similar flexibility) or `histplot` (an axes-level function for histograms).\n",
      "  warnings.warn(msg, FutureWarning)\n",
      "C:\\Users\\Dell\\anaconda3\\lib\\site-packages\\seaborn\\distributions.py:2619: FutureWarning: `distplot` is a deprecated function and will be removed in a future version. Please adapt your code to use either `displot` (a figure-level function with similar flexibility) or `histplot` (an axes-level function for histograms).\n",
      "  warnings.warn(msg, FutureWarning)\n",
      "C:\\Users\\Dell\\anaconda3\\lib\\site-packages\\seaborn\\distributions.py:2619: FutureWarning: `distplot` is a deprecated function and will be removed in a future version. Please adapt your code to use either `displot` (a figure-level function with similar flexibility) or `histplot` (an axes-level function for histograms).\n",
      "  warnings.warn(msg, FutureWarning)\n"
     ]
    },
    {
     "data": {
      "image/png": "[encoded data removed]",
      "text/plain": [
       "<Figure size 1200x2000 with 5 Axes>"
      ]
     },
     "metadata": {},
     "output_type": "display_data"
    }
   ],
   "source": [
    "cols = ['BHK', 'Rent', 'Size', 'Bathroom','Month_Posted']\n",
    "\n",
    "plt.figure(figsize=(12,20))\n",
    "for i in range(len(cols)):   # range(8)=> i=0,1,2,...7\n",
    "    plt.subplot(3,2,i+1)     # 4 = rows, 2 =cols\n",
    "    sns.distplot(x=df[cols[i]],kde=True)\n",
    "    plt.title(f'Boxplot for {cols[i]}')\n",
    "\n",
    "plt.tight_layout()\n",
    "plt.show()"
   ]
  },
  {
   "cell_type": "code",
   "execution_count": 18,
   "id": "7a7c92d3",
   "metadata": {},
   "outputs": [
    {
     "data": {
      "text/plain": [
       "Posted On            datetime64[ns]\n",
       "BHK                           int64\n",
       "Rent                          int64\n",
       "Size                          int64\n",
       "Floor                        object\n",
       "Area Type                    object\n",
       "Area Locality                object\n",
       "City                         object\n",
       "Furnishing Status            object\n",
       "Tenant Preferred             object\n",
       "Bathroom                      int64\n",
       "Point of Contact             object\n",
       "Year_Posted                   int64\n",
       "Month_Posted                  int64\n",
       "dtype: object"
      ]
     },
     "execution_count": 18,
     "metadata": {},
     "output_type": "execute_result"
    }
   ],
   "source": [
    "df.dtypes"
   ]
  },
  {
   "cell_type": "code",
   "execution_count": 19,
   "id": "4ad83298",
   "metadata": {},
   "outputs": [],
   "source": [
    "from statsmodels.stats.outliers_influence import variance_inflation_factor\n",
    "import statsmodels.api as sm   \n",
    "from sklearn.model_selection import train_test_split\n",
    "from sklearn.linear_model import LinearRegression\n",
    "from scipy.stats import ttest_ind\n",
    "from statsmodels.stats.weightstats import ztest"
   ]
  },
  {
   "cell_type": "code",
   "execution_count": 20,
   "id": "705a6c07",
   "metadata": {},
   "outputs": [
    {
     "data": {
      "text/plain": [
       "Index(['Posted On', 'BHK', 'Rent', 'Size', 'Floor', 'Area Type',\n",
       "       'Area Locality', 'City', 'Furnishing Status', 'Tenant Preferred',\n",
       "       'Bathroom', 'Point of Contact', 'Year_Posted', 'Month_Posted'],\n",
       "      dtype='object')"
      ]
     },
     "execution_count": 20,
     "metadata": {},
     "output_type": "execute_result"
    }
   ],
   "source": [
    "df.columns"
   ]
  },
  {
   "cell_type": "code",
   "execution_count": 21,
   "id": "b3cb8cf2",
   "metadata": {},
   "outputs": [
    {
     "data": {
      "text/plain": [
       "array(['Ground out of 2', '1 out of 3', '1 out of 2', 'Ground out of 1',\n",
       "       'Ground out of 4', '1 out of 4', '1 out of 1', 'Ground out of 3',\n",
       "       '2 out of 3', '4 out of 5', '2 out of 2', '2 out of 5',\n",
       "       '4 out of 14', '3 out of 3', '5 out of 5', '4 out of 4',\n",
       "       '7 out of 8', '2 out of 4', '3 out of 4', '1 out of 5',\n",
       "       '8 out of 5', 'Ground out of 6', '2 out of 1',\n",
       "       'Upper Basement out of 4', 'Ground out of 5', '3 out of 5',\n",
       "       '11 out of 19', '5 out of 10', '11 out of 14',\n",
       "       'Lower Basement out of 2', '2 out of 7', '4 out of 10',\n",
       "       '7 out of 10', '2 out of 13', '6 out of 7', '4 out of 7',\n",
       "       '14 out of 14', '43 out of 78', '2 out of 8', '13 out of 18',\n",
       "       '5 out of 12', '18 out of 24', '3 out of 7', '17 out of 31',\n",
       "       '11 out of 21', '7 out of 19', '14 out of 23', '9 out of 20',\n",
       "       'Upper Basement out of 9', '19 out of 24', '3 out of 21',\n",
       "       '1 out of 22', '8 out of 8', '6 out of 12', '4 out of 58',\n",
       "       'Upper Basement out of 16', '60 out of 66', '34 out of 48',\n",
       "       '5 out of 8', '5 out of 14', '14 out of 40', '5 out of 7',\n",
       "       '9 out of 22', '12 out of 18', '26 out of 44', '1 out of 8',\n",
       "       '25 out of 42', '25 out of 41', '53 out of 78', 'Ground out of 7',\n",
       "       '14 out of 20', '13 out of 20', '16 out of 23', '10 out of 18',\n",
       "       '39 out of 60', '16 out of 21', '10 out of 32', '4 out of 8',\n",
       "       '12 out of 24', '32 out of 41', '3 out of 30', '13 out of 21',\n",
       "       '9 out of 29', '47 out of 89', '7 out of 41', '28 out of 30',\n",
       "       '13 out of 15', '6 out of 21', '8 out of 16', '2 out of 6',\n",
       "       '5 out of 19', '3 out of 11', '17 out of 42', '10 out of 12',\n",
       "       '8 out of 28', '9 out of 15', '14 out of 22', '18 out of 40',\n",
       "       '9 out of 17', '12 out of 45', '25 out of 35', '7 out of 15',\n",
       "       '10 out of 16', 'Upper Basement out of 20', '5 out of 20',\n",
       "       'Upper Basement out of 40', '5 out of 18', '34 out of 58',\n",
       "       '4 out of 6', '20 out of 22', '12 out of 19', '15 out of 18',\n",
       "       '65 out of 78', '6 out of 16', '17 out of 22', '6 out of 24',\n",
       "       '40 out of 75', '19 out of 38', '15 out of 31', '11 out of 28',\n",
       "       '10 out of 22', '17 out of 24', '15 out of 19', '9 out of 10',\n",
       "       '7 out of 12', '8 out of 20', '11 out of 13', '9 out of 19',\n",
       "       '37 out of 51', '6 out of 11', '8 out of 15', '11 out of 20',\n",
       "       '10 out of 23', 'Upper Basement out of 10', '7 out of 23',\n",
       "       '4 out of 11', '17 out of 43', '7 out of 22', '14 out of 18',\n",
       "       '6 out of 10', '8 out of 12', '3 out of 18', '7 out of 7',\n",
       "       '14 out of 58', '18 out of 23', '19 out of 19', '13 out of 14',\n",
       "       '7 out of 11', '11 out of 22', 'Upper Basement out of 30',\n",
       "       '12 out of 14', '16 out of 31', '12 out of 13', '11 out of 51',\n",
       "       '2 out of 12', '22 out of 24', '7 out of 14', '5 out of 13',\n",
       "       '7 out of 21', '14 out of 21', '17 out of 25', '9 out of 14',\n",
       "       '8 out of 27', '3 out of 6', '17 out of 20', '18 out of 22',\n",
       "       '1 out of 7', '9 out of 30', '3 out of 8', '11 out of 26',\n",
       "       '17 out of 27', '4 out of 12', '12 out of 16', '10 out of 24',\n",
       "       '65 out of 76', '7 out of 9', '17 out of 60', '10 out of 11',\n",
       "       '18 out of 25', '5 out of 11', '15 out of 17', '15 out of 23',\n",
       "       '5 out of 17', '3 out of 28', '5 out of 24', '16 out of 32',\n",
       "       '21 out of 22', '7 out of 13', '9 out of 12', '15 out of 32',\n",
       "       '18 out of 27', '15 out of 16', '18 out of 45', '15 out of 15',\n",
       "       '6 out of 14', '1 out of 20', '16 out of 36', '30 out of 44',\n",
       "       '30 out of 37', '2 out of 9', '12 out of 22', '4 out of 9',\n",
       "       '2 out of 22', '5 out of 6', '6 out of 18', '35 out of 55',\n",
       "       '16 out of 29', '30 out of 45', '5 out of 9', '16 out of 25',\n",
       "       '33 out of 42', '4 out of 16', '13 out of 23', '9 out of 38',\n",
       "       '6 out of 8', '8 out of 13', '19 out of 30', '10 out of 14',\n",
       "       '11 out of 24', '9 out of 16', '9 out of 31', '4 out of 15',\n",
       "       '3 out of 9', '22 out of 30', '3 out of 58', '1 out of 9',\n",
       "       '53 out of 60', '5 out of 22', '15 out of 22', '19 out of 21',\n",
       "       '9 out of 40', 'Ground out of 8', '44 out of 75', '8 out of 17',\n",
       "       '3 out of 14', '12 out of 31', '26 out of 42', '2 out of 45',\n",
       "       '12 out of 68', '17 out of 36', '10 out of 28', '41 out of 41',\n",
       "       '14 out of 68', '14 out of 17', '15 out of 20', '46 out of 76',\n",
       "       '12 out of 20', '20 out of 30', '18 out of 32', '10 out of 25',\n",
       "       '17 out of 29', '10 out of 31', '10 out of 15', '13 out of 16',\n",
       "       '8 out of 10', '18 out of 21', '27 out of 58', '1 out of 6',\n",
       "       '19 out of 25', '3 out of 15', '25 out of 43', '8 out of 14',\n",
       "       '11 out of 12', '9 out of 21', '10 out of 13', '45 out of 77',\n",
       "       '18 out of 19', '10 out of 20', '12 out of 29',\n",
       "       'Lower Basement out of 18', '15 out of 24', '48 out of 68',\n",
       "       '12 out of 42', '16 out of 22', '35 out of 68', '18 out of 30',\n",
       "       '11 out of 31', '50 out of 75', '18 out of 26', '12 out of 27',\n",
       "       '16 out of 20', '24 out of 55', '16 out of 37',\n",
       "       'Upper Basement out of 7', '6 out of 15', '11 out of 27',\n",
       "       '11 out of 23', '3 out of 12', '14 out of 15', '23 out of 25',\n",
       "       '14 out of 48', '29 out of 35', '15 out of 36', '15 out of 25',\n",
       "       '15 out of 28', '3 out of 36', '8 out of 11', '6 out of 20',\n",
       "       '23 out of 23', '5 out of 15', '16 out of 18', '2 out of 10',\n",
       "       '40 out of 50', '25 out of 28', '12 out of 17', '34 out of 40',\n",
       "       'Upper Basement out of 22', '8 out of 23', '5 out of 21',\n",
       "       '32 out of 59', '20 out of 32', '9 out of 18', '10 out of 37',\n",
       "       '25 out of 48', '4 out of 22', '8 out of 18', '11 out of 11',\n",
       "       '5 out of 23', '60 out of 77', '11 out of 18', '4 out of 20',\n",
       "       '5 out of 16', '3 out of 13', '30 out of 58', '15 out of 43',\n",
       "       '7 out of 16', '18 out of 28', '9 out of 55', '11 out of 25',\n",
       "       '49 out of 55', '7 out of 27', '14 out of 27', '16 out of 27',\n",
       "       '25 out of 50', '6 out of 30', '21 out of 23', '8 out of 58',\n",
       "       '20 out of 41', '3 out of 62', '4 out of 13', '7 out of 17',\n",
       "       '12 out of 21', '28 out of 39', '15 out of 58', '6 out of 23',\n",
       "       '36 out of 45', '9 out of 28', '6 out of 45', '22 out of 52',\n",
       "       '10 out of 19', '21 out of 58', '48 out of 54', '7 out of 28',\n",
       "       '11 out of 15', '19 out of 22', '15 out of 37', '2 out of 17',\n",
       "       '76 out of 78', '3 out of 10', '20 out of 27', '8 out of 36',\n",
       "       '14 out of 33', '21 out of 21', '12 out of 25', '18 out of 29',\n",
       "       '14 out of 35', '7 out of 20', '20 out of 37', '9 out of 35',\n",
       "       '27 out of 27', '15 out of 60', '19 out of 33', '18 out of 20',\n",
       "       '13 out of 40', '9 out of 11', '8 out of 22', '6 out of 13',\n",
       "       '20 out of 31', '27 out of 45', '19 out of 20', '32 out of 46',\n",
       "       '19 out of 85', '3 out of 23', '34 out of 46', '4 out of 27',\n",
       "       '19 out of 27', '35 out of 60', '21 out of 33', '25 out of 52',\n",
       "       '2 out of 24', '24 out of 24', '18 out of 33', '1 out of 10',\n",
       "       '45 out of 60', '60 out of 71', '36 out of 81', '24 out of 60',\n",
       "       '16 out of 38', '8 out of 45', 'Ground out of 16', '8 out of 32',\n",
       "       '10 out of 10', '23 out of 40', '7 out of 18', '8 out of 19',\n",
       "       '6 out of 17', '16 out of 34', 'Ground out of 12', '6 out of 9',\n",
       "       'Ground out of 18', '20 out of 25', '3 out of 22', '9 out of 32',\n",
       "       '26 out of 32', '17 out of 18', '24 out of 25', '19 out of 26',\n",
       "       '17 out of 19', '1 out of 13', '14 out of 30', '8 out of 9',\n",
       "       '3 out of 17', 'Lower Basement out of 3', '12 out of 23',\n",
       "       'Ground out of 9', '1 out of 24', '1 out of 12', '3', 'Ground',\n",
       "       '15 out of 29', '20 out of 20', '14 out of 29',\n",
       "       'Lower Basement out of 1', '13 out of 17', '1 out of 14',\n",
       "       'Upper Basement out of 2', '2 out of 14', '24 out of 31',\n",
       "       '2 out of 32', '2 out of 16', '9 out of 13', '1 out of 11',\n",
       "       '6 out of 29', '9 out of 9', '28 out of 31', '1 out of 15',\n",
       "       'Ground out of 14', '2 out of 11', '19 out of 31', '1 out of 16',\n",
       "       '25 out of 32', '11 out of 16', '11 out of 17',\n",
       "       'Upper Basement out of 3', '4 out of 24', '1 out of 19',\n",
       "       '7 out of 30', '16 out of 19', 'Upper Basement out of 5',\n",
       "       'Ground out of 13', '2 out of 25', '23 out of 30', '4 out of 30',\n",
       "       '13 out of 25', '23 out of 35', 'Ground out of 10', '5 out of 34',\n",
       "       '20 out of 35', '1', '4 out of 31', '4 out of 26', '24 out of 33',\n",
       "       '4 out of 17', '1 out of 35', '11 out of 35', 'Ground out of 15',\n",
       "       'Ground out of 27', '15 out of 30', '12 out of 30', '23 out of 34'],\n",
       "      dtype=object)"
      ]
     },
     "execution_count": 21,
     "metadata": {},
     "output_type": "execute_result"
    }
   ],
   "source": [
    "df['Floor'].unique()"
   ]
  },
  {
   "cell_type": "code",
   "execution_count": 22,
   "id": "944da22b",
   "metadata": {},
   "outputs": [],
   "source": [
    "# 'Upper Basement out of 5','Ground out of 27','Lower Basement out of 5'\n",
    "# '15 out of 30', '1'\n",
    "\n",
    "def extract_floor_level(x):\n",
    "    if len(x)==1:\n",
    "        res = x\n",
    "    else:\n",
    "        r = x.split()            # splits based on \" \" => returns a list\n",
    "        res = \" \".join(r[:2])\n",
    "    return res"
   ]
  },
  {
   "cell_type": "code",
   "execution_count": 23,
   "id": "b1b52028",
   "metadata": {},
   "outputs": [
    {
     "data": {
      "text/plain": [
       "1 out             1159\n",
       "2 out              945\n",
       "Ground out         926\n",
       "3 out              511\n",
       "4 out              272\n",
       "5 out              164\n",
       "6 out               93\n",
       "7 out               74\n",
       "10 out              67\n",
       "8 out               66\n",
       "9 out               65\n",
       "12 out              47\n",
       "11 out              43\n",
       "15 out              41\n",
       "14 out              34\n",
       "18 out              26\n",
       "Upper Basement      23\n",
       "17 out              22\n",
       "16 out              21\n",
       "19 out              16\n",
       "13 out              15\n",
       "20 out              12\n",
       "25 out              12\n",
       "Lower Basement      11\n",
       "23 out               9\n",
       "24 out               6\n",
       "21 out               6\n",
       "30 out               5\n",
       "34 out               4\n",
       "28 out               4\n",
       "27 out               3\n",
       "35 out               3\n",
       "22 out               3\n",
       "32 out               3\n",
       "26 out               3\n",
       "65 out               3\n",
       "60 out               3\n",
       "40 out               2\n",
       "36 out               2\n",
       "48 out               2\n",
       "45 out               2\n",
       "53 out               2\n",
       "1                    2\n",
       "44 out               1\n",
       "41 out               1\n",
       "46 out               1\n",
       "33 out               1\n",
       "37 out               1\n",
       "50 out               1\n",
       "39 out               1\n",
       "43 out               1\n",
       "29 out               1\n",
       "49 out               1\n",
       "47 out               1\n",
       "76 out               1\n",
       "3                    1\n",
       "Ground               1\n",
       "Name: Floor_Level, dtype: int64"
      ]
     },
     "execution_count": 23,
     "metadata": {},
     "output_type": "execute_result"
    }
   ],
   "source": [
    "df['Floor_Level'] = df['Floor'].apply(extract_floor_level)\n",
    "df['Floor_Level'].value_counts()"
   ]
  },
  {
   "cell_type": "code",
   "execution_count": 24,
   "id": "6f40aaed",
   "metadata": {},
   "outputs": [
    {
     "data": {
      "text/plain": [
       "1                 1161\n",
       "2                  945\n",
       "Ground             927\n",
       "3                  512\n",
       "4                  272\n",
       "5                  164\n",
       "6                   93\n",
       "7                   74\n",
       "10                  67\n",
       "8                   66\n",
       "9                   65\n",
       "12                  47\n",
       "11                  43\n",
       "15                  41\n",
       "14                  34\n",
       "18                  26\n",
       "Upper Basement      23\n",
       "17                  22\n",
       "16                  21\n",
       "19                  16\n",
       "13                  15\n",
       "20                  12\n",
       "25                  12\n",
       "Lower Basement      11\n",
       "23                   9\n",
       "24                   6\n",
       "21                   6\n",
       "30                   5\n",
       "34                   4\n",
       "28                   4\n",
       "35                   3\n",
       "65                   3\n",
       "22                   3\n",
       "26                   3\n",
       "32                   3\n",
       "60                   3\n",
       "27                   3\n",
       "40                   2\n",
       "53                   2\n",
       "45                   2\n",
       "36                   2\n",
       "48                   2\n",
       "29                   1\n",
       "49                   1\n",
       "50                   1\n",
       "39                   1\n",
       "46                   1\n",
       "41                   1\n",
       "44                   1\n",
       "33                   1\n",
       "37                   1\n",
       "47                   1\n",
       "43                   1\n",
       "76                   1\n",
       "Name: Floor_Level, dtype: int64"
      ]
     },
     "execution_count": 24,
     "metadata": {},
     "output_type": "execute_result"
    }
   ],
   "source": [
    "df['Floor_Level'] = df['Floor_Level'].str.replace(' out','')\n",
    "df['Floor_Level'].value_counts()"
   ]
  },
  {
   "cell_type": "code",
   "execution_count": 25,
   "id": "b92a6322",
   "metadata": {},
   "outputs": [
    {
     "data": {
      "text/plain": [
       "(4746, 15)"
      ]
     },
     "execution_count": 25,
     "metadata": {},
     "output_type": "execute_result"
    }
   ],
   "source": [
    "df.shape"
   ]
  },
  {
   "cell_type": "code",
   "execution_count": 26,
   "id": "5b4ac1d5",
   "metadata": {},
   "outputs": [
    {
     "data": {
      "text/plain": [
       "1     1161\n",
       "0      961\n",
       "2      945\n",
       "3      512\n",
       "4      272\n",
       "5      164\n",
       "6       93\n",
       "7       74\n",
       "10      67\n",
       "8       66\n",
       "9       65\n",
       "12      47\n",
       "11      43\n",
       "15      41\n",
       "14      34\n",
       "18      26\n",
       "17      22\n",
       "16      21\n",
       "19      16\n",
       "13      15\n",
       "20      12\n",
       "25      12\n",
       "23       9\n",
       "24       6\n",
       "21       6\n",
       "30       5\n",
       "34       4\n",
       "28       4\n",
       "35       3\n",
       "27       3\n",
       "22       3\n",
       "32       3\n",
       "26       3\n",
       "65       3\n",
       "60       3\n",
       "45       2\n",
       "36       2\n",
       "48       2\n",
       "40       2\n",
       "53       2\n",
       "44       1\n",
       "41       1\n",
       "46       1\n",
       "37       1\n",
       "33       1\n",
       "50       1\n",
       "39       1\n",
       "43       1\n",
       "29       1\n",
       "49       1\n",
       "47       1\n",
       "76       1\n",
       "Name: Floor_Level, dtype: int64"
      ]
     },
     "execution_count": 26,
     "metadata": {},
     "output_type": "execute_result"
    }
   ],
   "source": [
    "# Ground, Upper_basement,Lower_basement\n",
    "df['Floor_Level'].replace({'Ground':0,'Lower Basement':0,\n",
    "                         'Upper Basement':0},inplace=True)\n",
    "df['Floor_Level'].value_counts()"
   ]
  },
  {
   "cell_type": "code",
   "execution_count": 27,
   "id": "dbc46b0c",
   "metadata": {},
   "outputs": [
    {
     "data": {
      "text/plain": [
       "array(['Ground out of 2', '1 out of 3', '1 out of 2', 'Ground out of 1',\n",
       "       'Ground out of 4', '1 out of 4', '1 out of 1', 'Ground out of 3',\n",
       "       '2 out of 3', '4 out of 5', '2 out of 2', '2 out of 5',\n",
       "       '4 out of 14', '3 out of 3', '5 out of 5', '4 out of 4',\n",
       "       '7 out of 8', '2 out of 4', '3 out of 4', '1 out of 5',\n",
       "       '8 out of 5', 'Ground out of 6', '2 out of 1',\n",
       "       'Upper Basement out of 4', 'Ground out of 5', '3 out of 5',\n",
       "       '11 out of 19', '5 out of 10', '11 out of 14',\n",
       "       'Lower Basement out of 2', '2 out of 7', '4 out of 10',\n",
       "       '7 out of 10', '2 out of 13', '6 out of 7', '4 out of 7',\n",
       "       '14 out of 14', '43 out of 78', '2 out of 8', '13 out of 18',\n",
       "       '5 out of 12', '18 out of 24', '3 out of 7', '17 out of 31',\n",
       "       '11 out of 21', '7 out of 19', '14 out of 23', '9 out of 20',\n",
       "       'Upper Basement out of 9', '19 out of 24', '3 out of 21',\n",
       "       '1 out of 22', '8 out of 8', '6 out of 12', '4 out of 58',\n",
       "       'Upper Basement out of 16', '60 out of 66', '34 out of 48',\n",
       "       '5 out of 8', '5 out of 14', '14 out of 40', '5 out of 7',\n",
       "       '9 out of 22', '12 out of 18', '26 out of 44', '1 out of 8',\n",
       "       '25 out of 42', '25 out of 41', '53 out of 78', 'Ground out of 7',\n",
       "       '14 out of 20', '13 out of 20', '16 out of 23', '10 out of 18',\n",
       "       '39 out of 60', '16 out of 21', '10 out of 32', '4 out of 8',\n",
       "       '12 out of 24', '32 out of 41', '3 out of 30', '13 out of 21',\n",
       "       '9 out of 29', '47 out of 89', '7 out of 41', '28 out of 30',\n",
       "       '13 out of 15', '6 out of 21', '8 out of 16', '2 out of 6',\n",
       "       '5 out of 19', '3 out of 11', '17 out of 42', '10 out of 12',\n",
       "       '8 out of 28', '9 out of 15', '14 out of 22', '18 out of 40',\n",
       "       '9 out of 17', '12 out of 45', '25 out of 35', '7 out of 15',\n",
       "       '10 out of 16', 'Upper Basement out of 20', '5 out of 20',\n",
       "       'Upper Basement out of 40', '5 out of 18', '34 out of 58',\n",
       "       '4 out of 6', '20 out of 22', '12 out of 19', '15 out of 18',\n",
       "       '65 out of 78', '6 out of 16', '17 out of 22', '6 out of 24',\n",
       "       '40 out of 75', '19 out of 38', '15 out of 31', '11 out of 28',\n",
       "       '10 out of 22', '17 out of 24', '15 out of 19', '9 out of 10',\n",
       "       '7 out of 12', '8 out of 20', '11 out of 13', '9 out of 19',\n",
       "       '37 out of 51', '6 out of 11', '8 out of 15', '11 out of 20',\n",
       "       '10 out of 23', 'Upper Basement out of 10', '7 out of 23',\n",
       "       '4 out of 11', '17 out of 43', '7 out of 22', '14 out of 18',\n",
       "       '6 out of 10', '8 out of 12', '3 out of 18', '7 out of 7',\n",
       "       '14 out of 58', '18 out of 23', '19 out of 19', '13 out of 14',\n",
       "       '7 out of 11', '11 out of 22', 'Upper Basement out of 30',\n",
       "       '12 out of 14', '16 out of 31', '12 out of 13', '11 out of 51',\n",
       "       '2 out of 12', '22 out of 24', '7 out of 14', '5 out of 13',\n",
       "       '7 out of 21', '14 out of 21', '17 out of 25', '9 out of 14',\n",
       "       '8 out of 27', '3 out of 6', '17 out of 20', '18 out of 22',\n",
       "       '1 out of 7', '9 out of 30', '3 out of 8', '11 out of 26',\n",
       "       '17 out of 27', '4 out of 12', '12 out of 16', '10 out of 24',\n",
       "       '65 out of 76', '7 out of 9', '17 out of 60', '10 out of 11',\n",
       "       '18 out of 25', '5 out of 11', '15 out of 17', '15 out of 23',\n",
       "       '5 out of 17', '3 out of 28', '5 out of 24', '16 out of 32',\n",
       "       '21 out of 22', '7 out of 13', '9 out of 12', '15 out of 32',\n",
       "       '18 out of 27', '15 out of 16', '18 out of 45', '15 out of 15',\n",
       "       '6 out of 14', '1 out of 20', '16 out of 36', '30 out of 44',\n",
       "       '30 out of 37', '2 out of 9', '12 out of 22', '4 out of 9',\n",
       "       '2 out of 22', '5 out of 6', '6 out of 18', '35 out of 55',\n",
       "       '16 out of 29', '30 out of 45', '5 out of 9', '16 out of 25',\n",
       "       '33 out of 42', '4 out of 16', '13 out of 23', '9 out of 38',\n",
       "       '6 out of 8', '8 out of 13', '19 out of 30', '10 out of 14',\n",
       "       '11 out of 24', '9 out of 16', '9 out of 31', '4 out of 15',\n",
       "       '3 out of 9', '22 out of 30', '3 out of 58', '1 out of 9',\n",
       "       '53 out of 60', '5 out of 22', '15 out of 22', '19 out of 21',\n",
       "       '9 out of 40', 'Ground out of 8', '44 out of 75', '8 out of 17',\n",
       "       '3 out of 14', '12 out of 31', '26 out of 42', '2 out of 45',\n",
       "       '12 out of 68', '17 out of 36', '10 out of 28', '41 out of 41',\n",
       "       '14 out of 68', '14 out of 17', '15 out of 20', '46 out of 76',\n",
       "       '12 out of 20', '20 out of 30', '18 out of 32', '10 out of 25',\n",
       "       '17 out of 29', '10 out of 31', '10 out of 15', '13 out of 16',\n",
       "       '8 out of 10', '18 out of 21', '27 out of 58', '1 out of 6',\n",
       "       '19 out of 25', '3 out of 15', '25 out of 43', '8 out of 14',\n",
       "       '11 out of 12', '9 out of 21', '10 out of 13', '45 out of 77',\n",
       "       '18 out of 19', '10 out of 20', '12 out of 29',\n",
       "       'Lower Basement out of 18', '15 out of 24', '48 out of 68',\n",
       "       '12 out of 42', '16 out of 22', '35 out of 68', '18 out of 30',\n",
       "       '11 out of 31', '50 out of 75', '18 out of 26', '12 out of 27',\n",
       "       '16 out of 20', '24 out of 55', '16 out of 37',\n",
       "       'Upper Basement out of 7', '6 out of 15', '11 out of 27',\n",
       "       '11 out of 23', '3 out of 12', '14 out of 15', '23 out of 25',\n",
       "       '14 out of 48', '29 out of 35', '15 out of 36', '15 out of 25',\n",
       "       '15 out of 28', '3 out of 36', '8 out of 11', '6 out of 20',\n",
       "       '23 out of 23', '5 out of 15', '16 out of 18', '2 out of 10',\n",
       "       '40 out of 50', '25 out of 28', '12 out of 17', '34 out of 40',\n",
       "       'Upper Basement out of 22', '8 out of 23', '5 out of 21',\n",
       "       '32 out of 59', '20 out of 32', '9 out of 18', '10 out of 37',\n",
       "       '25 out of 48', '4 out of 22', '8 out of 18', '11 out of 11',\n",
       "       '5 out of 23', '60 out of 77', '11 out of 18', '4 out of 20',\n",
       "       '5 out of 16', '3 out of 13', '30 out of 58', '15 out of 43',\n",
       "       '7 out of 16', '18 out of 28', '9 out of 55', '11 out of 25',\n",
       "       '49 out of 55', '7 out of 27', '14 out of 27', '16 out of 27',\n",
       "       '25 out of 50', '6 out of 30', '21 out of 23', '8 out of 58',\n",
       "       '20 out of 41', '3 out of 62', '4 out of 13', '7 out of 17',\n",
       "       '12 out of 21', '28 out of 39', '15 out of 58', '6 out of 23',\n",
       "       '36 out of 45', '9 out of 28', '6 out of 45', '22 out of 52',\n",
       "       '10 out of 19', '21 out of 58', '48 out of 54', '7 out of 28',\n",
       "       '11 out of 15', '19 out of 22', '15 out of 37', '2 out of 17',\n",
       "       '76 out of 78', '3 out of 10', '20 out of 27', '8 out of 36',\n",
       "       '14 out of 33', '21 out of 21', '12 out of 25', '18 out of 29',\n",
       "       '14 out of 35', '7 out of 20', '20 out of 37', '9 out of 35',\n",
       "       '27 out of 27', '15 out of 60', '19 out of 33', '18 out of 20',\n",
       "       '13 out of 40', '9 out of 11', '8 out of 22', '6 out of 13',\n",
       "       '20 out of 31', '27 out of 45', '19 out of 20', '32 out of 46',\n",
       "       '19 out of 85', '3 out of 23', '34 out of 46', '4 out of 27',\n",
       "       '19 out of 27', '35 out of 60', '21 out of 33', '25 out of 52',\n",
       "       '2 out of 24', '24 out of 24', '18 out of 33', '1 out of 10',\n",
       "       '45 out of 60', '60 out of 71', '36 out of 81', '24 out of 60',\n",
       "       '16 out of 38', '8 out of 45', 'Ground out of 16', '8 out of 32',\n",
       "       '10 out of 10', '23 out of 40', '7 out of 18', '8 out of 19',\n",
       "       '6 out of 17', '16 out of 34', 'Ground out of 12', '6 out of 9',\n",
       "       'Ground out of 18', '20 out of 25', '3 out of 22', '9 out of 32',\n",
       "       '26 out of 32', '17 out of 18', '24 out of 25', '19 out of 26',\n",
       "       '17 out of 19', '1 out of 13', '14 out of 30', '8 out of 9',\n",
       "       '3 out of 17', 'Lower Basement out of 3', '12 out of 23',\n",
       "       'Ground out of 9', '1 out of 24', '1 out of 12', '3', 'Ground',\n",
       "       '15 out of 29', '20 out of 20', '14 out of 29',\n",
       "       'Lower Basement out of 1', '13 out of 17', '1 out of 14',\n",
       "       'Upper Basement out of 2', '2 out of 14', '24 out of 31',\n",
       "       '2 out of 32', '2 out of 16', '9 out of 13', '1 out of 11',\n",
       "       '6 out of 29', '9 out of 9', '28 out of 31', '1 out of 15',\n",
       "       'Ground out of 14', '2 out of 11', '19 out of 31', '1 out of 16',\n",
       "       '25 out of 32', '11 out of 16', '11 out of 17',\n",
       "       'Upper Basement out of 3', '4 out of 24', '1 out of 19',\n",
       "       '7 out of 30', '16 out of 19', 'Upper Basement out of 5',\n",
       "       'Ground out of 13', '2 out of 25', '23 out of 30', '4 out of 30',\n",
       "       '13 out of 25', '23 out of 35', 'Ground out of 10', '5 out of 34',\n",
       "       '20 out of 35', '1', '4 out of 31', '4 out of 26', '24 out of 33',\n",
       "       '4 out of 17', '1 out of 35', '11 out of 35', 'Ground out of 15',\n",
       "       'Ground out of 27', '15 out of 30', '12 out of 30', '23 out of 34'],\n",
       "      dtype=object)"
      ]
     },
     "execution_count": 27,
     "metadata": {},
     "output_type": "execute_result"
    }
   ],
   "source": [
    "df['Floor'].unique()"
   ]
  },
  {
   "cell_type": "code",
   "execution_count": 28,
   "id": "4a8b2e92",
   "metadata": {},
   "outputs": [],
   "source": [
    "def extract_floor_count(x):\n",
    "    r = x.split()\n",
    "    res = r[-1]\n",
    "    return res"
   ]
  },
  {
   "cell_type": "code",
   "execution_count": 29,
   "id": "04b54f45",
   "metadata": {},
   "outputs": [
    {
     "data": {
      "text/plain": [
       "4         938\n",
       "3         915\n",
       "2         868\n",
       "5         422\n",
       "1         335\n",
       "         ... \n",
       "39          1\n",
       "62          1\n",
       "59          1\n",
       "66          1\n",
       "Ground      1\n",
       "Name: Floor_Count, Length: 67, dtype: int64"
      ]
     },
     "execution_count": 29,
     "metadata": {},
     "output_type": "execute_result"
    }
   ],
   "source": [
    "df['Floor_Count'] = df['Floor'].apply(extract_floor_count)\n",
    "df['Floor_Count'].value_counts()"
   ]
  },
  {
   "cell_type": "code",
   "execution_count": 30,
   "id": "0f628891",
   "metadata": {},
   "outputs": [
    {
     "data": {
      "text/plain": [
       "array(['2', '3', '1', '4', '5', '14', '8', '6', '19', '10', '7', '13',\n",
       "       '78', '18', '12', '24', '31', '21', '23', '20', '9', '22', '58',\n",
       "       '16', '66', '48', '40', '44', '42', '41', '60', '32', '30', '29',\n",
       "       '89', '15', '11', '28', '17', '45', '35', '75', '38', '51', '43',\n",
       "       '25', '27', '26', '76', '36', '37', '55', '68', '77', '50', '59',\n",
       "       '62', '39', '52', '54', '33', '46', '85', '71', '81', '34', 1],\n",
       "      dtype=object)"
      ]
     },
     "execution_count": 30,
     "metadata": {},
     "output_type": "execute_result"
    }
   ],
   "source": [
    "df['Floor_Count'].replace({'Ground':1},inplace=True)\n",
    "df['Floor_Count'].unique()"
   ]
  },
  {
   "cell_type": "code",
   "execution_count": 31,
   "id": "5778582e",
   "metadata": {},
   "outputs": [
    {
     "data": {
      "text/plain": [
       "Posted On            datetime64[ns]\n",
       "BHK                           int64\n",
       "Rent                          int64\n",
       "Size                          int64\n",
       "Floor                        object\n",
       "Area Type                    object\n",
       "Area Locality                object\n",
       "City                         object\n",
       "Furnishing Status            object\n",
       "Tenant Preferred             object\n",
       "Bathroom                      int64\n",
       "Point of Contact             object\n",
       "Year_Posted                   int64\n",
       "Month_Posted                  int64\n",
       "Floor_Level                   int64\n",
       "Floor_Count                   int64\n",
       "dtype: object"
      ]
     },
     "execution_count": 31,
     "metadata": {},
     "output_type": "execute_result"
    }
   ],
   "source": [
    "df['Floor_Level'] = pd.to_numeric(df['Floor_Level'])\n",
    "df['Floor_Count'] = pd.to_numeric(df['Floor_Count'])\n",
    "df.dtypes"
   ]
  },
  {
   "cell_type": "code",
   "execution_count": 32,
   "id": "eee00c01",
   "metadata": {},
   "outputs": [
    {
     "data": {
      "text/plain": [
       "2022    4746\n",
       "Name: Year_Posted, dtype: int64"
      ]
     },
     "execution_count": 32,
     "metadata": {},
     "output_type": "execute_result"
    }
   ],
   "source": [
    "df['Year_Posted'].value_counts()"
   ]
  },
  {
   "cell_type": "code",
   "execution_count": 33,
   "id": "1b39eddd",
   "metadata": {},
   "outputs": [
    {
     "data": {
      "text/plain": [
       "Index(['Posted On', 'BHK', 'Rent', 'Size', 'Area Type', 'Area Locality',\n",
       "       'City', 'Furnishing Status', 'Tenant Preferred', 'Bathroom',\n",
       "       'Point of Contact', 'Month_Posted', 'Floor_Level', 'Floor_Count'],\n",
       "      dtype='object')"
      ]
     },
     "execution_count": 33,
     "metadata": {},
     "output_type": "execute_result"
    }
   ],
   "source": [
    "df.drop(['Year_Posted','Floor'],axis=1,inplace=True)\n",
    "df.columns"
   ]
  },
  {
   "cell_type": "code",
   "execution_count": 34,
   "id": "daa72f23",
   "metadata": {},
   "outputs": [
    {
     "data": {
      "text/plain": [
       "Index(['BHK', 'Rent', 'Size', 'Area Type', 'Area Locality', 'City',\n",
       "       'Furnishing Status', 'Tenant Preferred', 'Bathroom', 'Point of Contact',\n",
       "       'Month_Posted', 'Floor_Level', 'Floor_Count'],\n",
       "      dtype='object')"
      ]
     },
     "execution_count": 34,
     "metadata": {},
     "output_type": "execute_result"
    }
   ],
   "source": [
    "df.drop(['Posted On'],axis=1,inplace=True)\n",
    "df.columns"
   ]
  },
  {
   "cell_type": "markdown",
   "id": "0490dcfc",
   "metadata": {},
   "source": [
    "#### Correlation"
   ]
  },
  {
   "cell_type": "code",
   "execution_count": 35,
   "id": "b3e82a5f",
   "metadata": {},
   "outputs": [
    {
     "name": "stderr",
     "output_type": "stream",
     "text": [
      "C:\\Users\\Dell\\AppData\\Local\\Temp\\ipykernel_9084\\839712883.py:1: FutureWarning: The default value of numeric_only in DataFrame.corr is deprecated. In a future version, it will default to False. Select only valid columns or specify the value of numeric_only to silence this warning.\n",
      "  corr = df.corr()\n"
     ]
    },
    {
     "data": {
      "image/png": "[encoded data removed]",
      "text/plain": [
       "<Figure size 1200x1200 with 2 Axes>"
      ]
     },
     "metadata": {},
     "output_type": "display_data"
    }
   ],
   "source": [
    "corr = df.corr()\n",
    "\n",
    "plt.figure(figsize=(12,12))\n",
    "sns.heatmap(corr,annot=True,cmap='RdBu')  # annot= True => annotation\n",
    "plt.show()"
   ]
  },
  {
   "cell_type": "markdown",
   "id": "63a97d48",
   "metadata": {},
   "source": [
    "#### Extreme Outlier Treatment"
   ]
  },
  {
   "cell_type": "code",
   "execution_count": 36,
   "id": "1711703e",
   "metadata": {},
   "outputs": [
    {
     "data": {
      "text/html": [
       "<div>\n",
       "<style scoped>\n",
       "    .dataframe tbody tr th:only-of-type {\n",
       "        vertical-align: middle;\n",
       "    }\n",
       "\n",
       "    .dataframe tbody tr th {\n",
       "        vertical-align: top;\n",
       "    }\n",
       "\n",
       "    .dataframe thead th {\n",
       "        text-align: right;\n",
       "    }\n",
       "</style>\n",
       "<table border=\"1\" class=\"dataframe\">\n",
       "  <thead>\n",
       "    <tr style=\"text-align: right;\">\n",
       "      <th></th>\n",
       "      <th>min</th>\n",
       "      <th>1%</th>\n",
       "      <th>2%</th>\n",
       "      <th>3%</th>\n",
       "      <th>50%</th>\n",
       "      <th>97%</th>\n",
       "      <th>98%</th>\n",
       "      <th>99%</th>\n",
       "      <th>max</th>\n",
       "    </tr>\n",
       "  </thead>\n",
       "  <tbody>\n",
       "    <tr>\n",
       "      <th>BHK</th>\n",
       "      <td>1.0</td>\n",
       "      <td>1.0</td>\n",
       "      <td>1.0</td>\n",
       "      <td>1.00</td>\n",
       "      <td>2.0</td>\n",
       "      <td>4.00</td>\n",
       "      <td>4.0</td>\n",
       "      <td>4.0</td>\n",
       "      <td>6.0</td>\n",
       "    </tr>\n",
       "    <tr>\n",
       "      <th>Rent</th>\n",
       "      <td>1200.0</td>\n",
       "      <td>4000.0</td>\n",
       "      <td>5000.0</td>\n",
       "      <td>5000.00</td>\n",
       "      <td>16000.0</td>\n",
       "      <td>180000.00</td>\n",
       "      <td>211000.0</td>\n",
       "      <td>300000.0</td>\n",
       "      <td>3500000.0</td>\n",
       "    </tr>\n",
       "    <tr>\n",
       "      <th>Size</th>\n",
       "      <td>10.0</td>\n",
       "      <td>70.0</td>\n",
       "      <td>100.0</td>\n",
       "      <td>121.75</td>\n",
       "      <td>850.0</td>\n",
       "      <td>2500.00</td>\n",
       "      <td>2800.0</td>\n",
       "      <td>3289.2</td>\n",
       "      <td>8000.0</td>\n",
       "    </tr>\n",
       "    <tr>\n",
       "      <th>Bathroom</th>\n",
       "      <td>1.0</td>\n",
       "      <td>1.0</td>\n",
       "      <td>1.0</td>\n",
       "      <td>1.00</td>\n",
       "      <td>2.0</td>\n",
       "      <td>4.00</td>\n",
       "      <td>4.0</td>\n",
       "      <td>5.0</td>\n",
       "      <td>10.0</td>\n",
       "    </tr>\n",
       "    <tr>\n",
       "      <th>Month_Posted</th>\n",
       "      <td>4.0</td>\n",
       "      <td>4.0</td>\n",
       "      <td>4.0</td>\n",
       "      <td>4.00</td>\n",
       "      <td>6.0</td>\n",
       "      <td>7.00</td>\n",
       "      <td>7.0</td>\n",
       "      <td>7.0</td>\n",
       "      <td>7.0</td>\n",
       "    </tr>\n",
       "    <tr>\n",
       "      <th>Floor_Level</th>\n",
       "      <td>0.0</td>\n",
       "      <td>0.0</td>\n",
       "      <td>0.0</td>\n",
       "      <td>0.00</td>\n",
       "      <td>2.0</td>\n",
       "      <td>17.65</td>\n",
       "      <td>20.0</td>\n",
       "      <td>27.0</td>\n",
       "      <td>76.0</td>\n",
       "    </tr>\n",
       "    <tr>\n",
       "      <th>Floor_Count</th>\n",
       "      <td>1.0</td>\n",
       "      <td>1.0</td>\n",
       "      <td>1.0</td>\n",
       "      <td>1.00</td>\n",
       "      <td>4.0</td>\n",
       "      <td>31.00</td>\n",
       "      <td>37.0</td>\n",
       "      <td>51.0</td>\n",
       "      <td>89.0</td>\n",
       "    </tr>\n",
       "  </tbody>\n",
       "</table>\n",
       "</div>"
      ],
      "text/plain": [
       "                 min      1%      2%       3%      50%        97%       98%  \\\n",
       "BHK              1.0     1.0     1.0     1.00      2.0       4.00       4.0   \n",
       "Rent          1200.0  4000.0  5000.0  5000.00  16000.0  180000.00  211000.0   \n",
       "Size            10.0    70.0   100.0   121.75    850.0    2500.00    2800.0   \n",
       "Bathroom         1.0     1.0     1.0     1.00      2.0       4.00       4.0   \n",
       "Month_Posted     4.0     4.0     4.0     4.00      6.0       7.00       7.0   \n",
       "Floor_Level      0.0     0.0     0.0     0.00      2.0      17.65      20.0   \n",
       "Floor_Count      1.0     1.0     1.0     1.00      4.0      31.00      37.0   \n",
       "\n",
       "                   99%        max  \n",
       "BHK                4.0        6.0  \n",
       "Rent          300000.0  3500000.0  \n",
       "Size            3289.2     8000.0  \n",
       "Bathroom           5.0       10.0  \n",
       "Month_Posted       7.0        7.0  \n",
       "Floor_Level       27.0       76.0  \n",
       "Floor_Count       51.0       89.0  "
      ]
     },
     "execution_count": 36,
     "metadata": {},
     "output_type": "execute_result"
    }
   ],
   "source": [
    "# Q3 = 75%ile, Q1 = 25%ile\n",
    "# Outliers > Q3 + 1.5*IQR or < Q1 - 1.5*IQR\n",
    "a = df.describe(percentiles =[0.01,0.02,0.03,0.97,0.98,0.99]).T\n",
    "a = a.iloc[:,3:]\n",
    "a"
   ]
  },
  {
   "cell_type": "code",
   "execution_count": 37,
   "id": "6834a6b9",
   "metadata": {},
   "outputs": [
    {
     "name": "stdout",
     "output_type": "stream",
     "text": [
      "(34, 13)\n",
      "(41, 13)\n",
      "(16, 13)\n",
      "(47, 13)\n",
      "(48, 13)\n",
      "(47, 13)\n"
     ]
    }
   ],
   "source": [
    "print(df[df['Rent']<4000].shape)  # \n",
    "print(df[df['Rent']>300000.0].shape)  # \n",
    "print(df[df['Bathroom']>5.0].shape)  # \n",
    "print(df[df['Size']<70.0].shape)  # \n",
    "print(df[df['Size']>3289.0].shape)  # \n",
    "print(df[df['Floor_Count']>51.0].shape)  # "
   ]
  },
  {
   "cell_type": "code",
   "execution_count": 38,
   "id": "6de44d7c",
   "metadata": {},
   "outputs": [],
   "source": [
    "df1 = df.copy()\n",
    "df2 = df.copy()"
   ]
  },
  {
   "cell_type": "code",
   "execution_count": 39,
   "id": "bd9b2ed3",
   "metadata": {},
   "outputs": [],
   "source": [
    "df['Rent'] =  np.where(df['Rent']<4000.0, 4000.0,df['Rent'])\n",
    "df['Size'] =  np.where(df['Size']<70, 70,df['Size'])"
   ]
  },
  {
   "cell_type": "code",
   "execution_count": 40,
   "id": "694689b4",
   "metadata": {},
   "outputs": [],
   "source": [
    "cols = ['Rent','Size','Bathroom','Floor_Count','Floor_Level']\n",
    "\n",
    "def outlier_treatment(x):\n",
    "    x = x.clip(upper=x.quantile(0.99))\n",
    "#    x = x.clip(lower=x.quantile(0.01))\n",
    "    return x"
   ]
  },
  {
   "cell_type": "code",
   "execution_count": 41,
   "id": "7ddbff52",
   "metadata": {},
   "outputs": [],
   "source": [
    "df[cols] = df[cols].apply(outlier_treatment)"
   ]
  },
  {
   "cell_type": "code",
   "execution_count": 42,
   "id": "4b96d411",
   "metadata": {},
   "outputs": [
    {
     "data": {
      "text/html": [
       "<div>\n",
       "<style scoped>\n",
       "    .dataframe tbody tr th:only-of-type {\n",
       "        vertical-align: middle;\n",
       "    }\n",
       "\n",
       "    .dataframe tbody tr th {\n",
       "        vertical-align: top;\n",
       "    }\n",
       "\n",
       "    .dataframe thead th {\n",
       "        text-align: right;\n",
       "    }\n",
       "</style>\n",
       "<table border=\"1\" class=\"dataframe\">\n",
       "  <thead>\n",
       "    <tr style=\"text-align: right;\">\n",
       "      <th></th>\n",
       "      <th>min</th>\n",
       "      <th>1%</th>\n",
       "      <th>2%</th>\n",
       "      <th>3%</th>\n",
       "      <th>50%</th>\n",
       "      <th>97%</th>\n",
       "      <th>98%</th>\n",
       "      <th>99%</th>\n",
       "      <th>max</th>\n",
       "    </tr>\n",
       "  </thead>\n",
       "  <tbody>\n",
       "    <tr>\n",
       "      <th>BHK</th>\n",
       "      <td>1.0</td>\n",
       "      <td>1.0</td>\n",
       "      <td>1.0</td>\n",
       "      <td>1.00</td>\n",
       "      <td>2.0</td>\n",
       "      <td>4.00</td>\n",
       "      <td>4.0</td>\n",
       "      <td>4.00</td>\n",
       "      <td>6.0</td>\n",
       "    </tr>\n",
       "    <tr>\n",
       "      <th>Rent</th>\n",
       "      <td>4000.0</td>\n",
       "      <td>4000.0</td>\n",
       "      <td>5000.0</td>\n",
       "      <td>5000.00</td>\n",
       "      <td>16000.0</td>\n",
       "      <td>180000.00</td>\n",
       "      <td>211000.0</td>\n",
       "      <td>300000.00</td>\n",
       "      <td>300000.0</td>\n",
       "    </tr>\n",
       "    <tr>\n",
       "      <th>Size</th>\n",
       "      <td>70.0</td>\n",
       "      <td>70.0</td>\n",
       "      <td>100.0</td>\n",
       "      <td>121.75</td>\n",
       "      <td>850.0</td>\n",
       "      <td>2500.00</td>\n",
       "      <td>2800.0</td>\n",
       "      <td>3283.26</td>\n",
       "      <td>3289.2</td>\n",
       "    </tr>\n",
       "    <tr>\n",
       "      <th>Bathroom</th>\n",
       "      <td>1.0</td>\n",
       "      <td>1.0</td>\n",
       "      <td>1.0</td>\n",
       "      <td>1.00</td>\n",
       "      <td>2.0</td>\n",
       "      <td>4.00</td>\n",
       "      <td>4.0</td>\n",
       "      <td>5.00</td>\n",
       "      <td>5.0</td>\n",
       "    </tr>\n",
       "    <tr>\n",
       "      <th>Month_Posted</th>\n",
       "      <td>4.0</td>\n",
       "      <td>4.0</td>\n",
       "      <td>4.0</td>\n",
       "      <td>4.00</td>\n",
       "      <td>6.0</td>\n",
       "      <td>7.00</td>\n",
       "      <td>7.0</td>\n",
       "      <td>7.00</td>\n",
       "      <td>7.0</td>\n",
       "    </tr>\n",
       "    <tr>\n",
       "      <th>Floor_Level</th>\n",
       "      <td>0.0</td>\n",
       "      <td>0.0</td>\n",
       "      <td>0.0</td>\n",
       "      <td>0.00</td>\n",
       "      <td>2.0</td>\n",
       "      <td>17.65</td>\n",
       "      <td>20.0</td>\n",
       "      <td>27.00</td>\n",
       "      <td>27.0</td>\n",
       "    </tr>\n",
       "    <tr>\n",
       "      <th>Floor_Count</th>\n",
       "      <td>1.0</td>\n",
       "      <td>1.0</td>\n",
       "      <td>1.0</td>\n",
       "      <td>1.00</td>\n",
       "      <td>4.0</td>\n",
       "      <td>31.00</td>\n",
       "      <td>37.0</td>\n",
       "      <td>51.00</td>\n",
       "      <td>51.0</td>\n",
       "    </tr>\n",
       "  </tbody>\n",
       "</table>\n",
       "</div>"
      ],
      "text/plain": [
       "                 min      1%      2%       3%      50%        97%       98%  \\\n",
       "BHK              1.0     1.0     1.0     1.00      2.0       4.00       4.0   \n",
       "Rent          4000.0  4000.0  5000.0  5000.00  16000.0  180000.00  211000.0   \n",
       "Size            70.0    70.0   100.0   121.75    850.0    2500.00    2800.0   \n",
       "Bathroom         1.0     1.0     1.0     1.00      2.0       4.00       4.0   \n",
       "Month_Posted     4.0     4.0     4.0     4.00      6.0       7.00       7.0   \n",
       "Floor_Level      0.0     0.0     0.0     0.00      2.0      17.65      20.0   \n",
       "Floor_Count      1.0     1.0     1.0     1.00      4.0      31.00      37.0   \n",
       "\n",
       "                    99%       max  \n",
       "BHK                4.00       6.0  \n",
       "Rent          300000.00  300000.0  \n",
       "Size            3283.26    3289.2  \n",
       "Bathroom           5.00       5.0  \n",
       "Month_Posted       7.00       7.0  \n",
       "Floor_Level       27.00      27.0  \n",
       "Floor_Count       51.00      51.0  "
      ]
     },
     "execution_count": 42,
     "metadata": {},
     "output_type": "execute_result"
    }
   ],
   "source": [
    "a = df.describe(percentiles = [0.01,0.02,0.03,0.97,0.98,0.99]).T\n",
    "a = a.iloc[:,3:]\n",
    "a"
   ]
  },
  {
   "cell_type": "code",
   "execution_count": 43,
   "id": "71154df5",
   "metadata": {},
   "outputs": [
    {
     "data": {
      "text/plain": [
       "BHK                    int64\n",
       "Rent                 float64\n",
       "Size                 float64\n",
       "Area Type             object\n",
       "Area Locality         object\n",
       "City                  object\n",
       "Furnishing Status     object\n",
       "Tenant Preferred      object\n",
       "Bathroom               int64\n",
       "Point of Contact      object\n",
       "Month_Posted           int64\n",
       "Floor_Level            int64\n",
       "Floor_Count            int64\n",
       "dtype: object"
      ]
     },
     "execution_count": 43,
     "metadata": {},
     "output_type": "execute_result"
    }
   ],
   "source": [
    "df.dtypes"
   ]
  },
  {
   "cell_type": "markdown",
   "id": "d903d4e4",
   "metadata": {},
   "source": [
    "#### Encoding"
   ]
  },
  {
   "cell_type": "code",
   "execution_count": 44,
   "id": "1b68e4a0",
   "metadata": {},
   "outputs": [
    {
     "name": "stdout",
     "output_type": "stream",
     "text": [
      "Index(['Area Type', 'Area Locality', 'City', 'Furnishing Status',\n",
      "       'Tenant Preferred', 'Point of Contact'],\n",
      "      dtype='object')\n"
     ]
    }
   ],
   "source": [
    "cat_cols = df.dtypes[df.dtypes=='object'].index\n",
    "print(cat_cols)"
   ]
  },
  {
   "cell_type": "code",
   "execution_count": 45,
   "id": "6ebff329",
   "metadata": {},
   "outputs": [
    {
     "name": "stdout",
     "output_type": "stream",
     "text": [
      "Area Type 3\n",
      "Area Locality 2235\n",
      "City 6\n",
      "Furnishing Status 3\n",
      "Tenant Preferred 3\n",
      "Point of Contact 3\n"
     ]
    }
   ],
   "source": [
    "for i in cat_cols:\n",
    "    print(i,df[i].nunique())"
   ]
  },
  {
   "cell_type": "code",
   "execution_count": 46,
   "id": "e2521801",
   "metadata": {},
   "outputs": [],
   "source": [
    "# Prod  LabelEnc  PA  PB   PC  =>\n",
    "# A        0      1   0   0\n",
    "# B        1      0   1   0\n",
    "# C        2      0   0   1\n",
    "# A        0      1   0   0\n",
    "# B        1      0   1   0\n",
    "\n",
    "#  Dummy Variable Creation(returns dataframe) , One Hot Encoding(returns numpy array)"
   ]
  },
  {
   "cell_type": "code",
   "execution_count": 47,
   "id": "f9b13b63",
   "metadata": {},
   "outputs": [
    {
     "name": "stdout",
     "output_type": "stream",
     "text": [
      "(4746, 21)\n",
      "Index(['BHK', 'Rent', 'Size', 'Area Locality', 'Bathroom', 'Month_Posted',\n",
      "       'Floor_Level', 'Floor_Count', 'Area Type_Carpet Area',\n",
      "       'Area Type_Super Area', 'City_Chennai', 'City_Delhi', 'City_Hyderabad',\n",
      "       'City_Kolkata', 'City_Mumbai', 'Furnishing Status_Semi-Furnished',\n",
      "       'Furnishing Status_Unfurnished', 'Tenant Preferred_Bachelors/Family',\n",
      "       'Tenant Preferred_Family', 'Point of Contact_Contact Builder',\n",
      "       'Point of Contact_Contact Owner'],\n",
      "      dtype='object')\n"
     ]
    }
   ],
   "source": [
    "cols = ['Area Type', 'City', 'Furnishing Status',\n",
    "       'Tenant Preferred', 'Point of Contact']\n",
    "df_dum = pd.get_dummies(data=df,columns = cols,drop_first=True)\n",
    "print(df_dum.shape)\n",
    "print(df_dum.columns)"
   ]
  },
  {
   "cell_type": "code",
   "execution_count": 48,
   "id": "5788884e",
   "metadata": {},
   "outputs": [
    {
     "data": {
      "text/plain": [
       "BHK                                    int64\n",
       "Rent                                 float64\n",
       "Size                                 float64\n",
       "Area Locality                         object\n",
       "Bathroom                               int64\n",
       "Month_Posted                           int64\n",
       "Floor_Level                            int64\n",
       "Floor_Count                            int64\n",
       "Area Type_Carpet Area                  uint8\n",
       "Area Type_Super Area                   uint8\n",
       "City_Chennai                           uint8\n",
       "City_Delhi                             uint8\n",
       "City_Hyderabad                         uint8\n",
       "City_Kolkata                           uint8\n",
       "City_Mumbai                            uint8\n",
       "Furnishing Status_Semi-Furnished       uint8\n",
       "Furnishing Status_Unfurnished          uint8\n",
       "Tenant Preferred_Bachelors/Family      uint8\n",
       "Tenant Preferred_Family                uint8\n",
       "Point of Contact_Contact Builder       uint8\n",
       "Point of Contact_Contact Owner         uint8\n",
       "dtype: object"
      ]
     },
     "execution_count": 48,
     "metadata": {},
     "output_type": "execute_result"
    }
   ],
   "source": [
    "df_dum.dtypes"
   ]
  },
  {
   "cell_type": "code",
   "execution_count": 49,
   "id": "b41dce78",
   "metadata": {},
   "outputs": [
    {
     "name": "stdout",
     "output_type": "stream",
     "text": [
      "1.5.3\n"
     ]
    }
   ],
   "source": [
    "print(pd.__version__)"
   ]
  },
  {
   "cell_type": "code",
   "execution_count": 53,
   "id": "5a4fd0b1",
   "metadata": {},
   "outputs": [],
   "source": [
    "from scipy.stats import shapiro"
   ]
  },
  {
   "cell_type": "code",
   "execution_count": 54,
   "id": "86c0eca5",
   "metadata": {},
   "outputs": [
    {
     "name": "stdout",
     "output_type": "stream",
     "text": [
      "0.5475691556930542\n",
      "0.0\n"
     ]
    }
   ],
   "source": [
    "test_stat,p = shapiro(df_dum['Rent'])\n",
    "print(test_stat)\n",
    "print(p)"
   ]
  },
  {
   "cell_type": "code",
   "execution_count": 55,
   "id": "ef1d4ea5",
   "metadata": {},
   "outputs": [
    {
     "name": "stdout",
     "output_type": "stream",
     "text": [
      "0.9468694925308228\n",
      "2.3573553610873884e-38\n"
     ]
    }
   ],
   "source": [
    "test_stat,p = shapiro(np.log(df_dum['Rent']))\n",
    "print(test_stat)\n",
    "print(p)   # => more close to 0.05"
   ]
  },
  {
   "cell_type": "code",
   "execution_count": null,
   "id": "c33e75a7",
   "metadata": {},
   "outputs": [],
   "source": []
  },
  {
   "cell_type": "markdown",
   "id": "24cd7cb7",
   "metadata": {},
   "source": [
    "#### Select x and y"
   ]
  },
  {
   "cell_type": "code",
   "execution_count": 59,
   "id": "83738f10",
   "metadata": {},
   "outputs": [
    {
     "name": "stdout",
     "output_type": "stream",
     "text": [
      "(4746, 18)\n",
      "(4746,)\n"
     ]
    }
   ],
   "source": [
    "x = df_dum.drop(['Rent','Area Locality','Month_Posted'],axis=1)\n",
    "y = np.log(df_dum['Rent'])\n",
    "print(x.shape)\n",
    "print(y.shape)"
   ]
  },
  {
   "cell_type": "markdown",
   "id": "724dd9e2",
   "metadata": {},
   "source": [
    "#### VIF"
   ]
  },
  {
   "cell_type": "code",
   "execution_count": 57,
   "id": "b25a1dd1",
   "metadata": {},
   "outputs": [],
   "source": [
    "from statsmodels.stats.outliers_influence import variance_inflation_factor"
   ]
  },
  {
   "cell_type": "code",
   "execution_count": 58,
   "id": "ef364efd",
   "metadata": {},
   "outputs": [
    {
     "data": {
      "text/html": [
       "<div>\n",
       "<style scoped>\n",
       "    .dataframe tbody tr th:only-of-type {\n",
       "        vertical-align: middle;\n",
       "    }\n",
       "\n",
       "    .dataframe tbody tr th {\n",
       "        vertical-align: top;\n",
       "    }\n",
       "\n",
       "    .dataframe thead th {\n",
       "        text-align: right;\n",
       "    }\n",
       "</style>\n",
       "<table border=\"1\" class=\"dataframe\">\n",
       "  <thead>\n",
       "    <tr style=\"text-align: right;\">\n",
       "      <th></th>\n",
       "      <th>Feature</th>\n",
       "      <th>VIF</th>\n",
       "    </tr>\n",
       "  </thead>\n",
       "  <tbody>\n",
       "    <tr>\n",
       "      <th>0</th>\n",
       "      <td>BHK</td>\n",
       "      <td>25.680885</td>\n",
       "    </tr>\n",
       "    <tr>\n",
       "      <th>2</th>\n",
       "      <td>Bathroom</td>\n",
       "      <td>25.117086</td>\n",
       "    </tr>\n",
       "    <tr>\n",
       "      <th>6</th>\n",
       "      <td>Area Type_Super Area</td>\n",
       "      <td>18.705358</td>\n",
       "    </tr>\n",
       "    <tr>\n",
       "      <th>5</th>\n",
       "      <td>Area Type_Carpet Area</td>\n",
       "      <td>14.659457</td>\n",
       "    </tr>\n",
       "    <tr>\n",
       "      <th>1</th>\n",
       "      <td>Size</td>\n",
       "      <td>10.911050</td>\n",
       "    </tr>\n",
       "    <tr>\n",
       "      <th>4</th>\n",
       "      <td>Floor_Count</td>\n",
       "      <td>7.237012</td>\n",
       "    </tr>\n",
       "    <tr>\n",
       "      <th>17</th>\n",
       "      <td>Point of Contact_Contact Owner</td>\n",
       "      <td>6.442237</td>\n",
       "    </tr>\n",
       "    <tr>\n",
       "      <th>14</th>\n",
       "      <td>Tenant Preferred_Bachelors/Family</td>\n",
       "      <td>6.094707</td>\n",
       "    </tr>\n",
       "    <tr>\n",
       "      <th>3</th>\n",
       "      <td>Floor_Level</td>\n",
       "      <td>5.779480</td>\n",
       "    </tr>\n",
       "    <tr>\n",
       "      <th>12</th>\n",
       "      <td>Furnishing Status_Semi-Furnished</td>\n",
       "      <td>4.470250</td>\n",
       "    </tr>\n",
       "    <tr>\n",
       "      <th>13</th>\n",
       "      <td>Furnishing Status_Unfurnished</td>\n",
       "      <td>3.886633</td>\n",
       "    </tr>\n",
       "    <tr>\n",
       "      <th>11</th>\n",
       "      <td>City_Mumbai</td>\n",
       "      <td>3.513929</td>\n",
       "    </tr>\n",
       "    <tr>\n",
       "      <th>9</th>\n",
       "      <td>City_Hyderabad</td>\n",
       "      <td>2.083495</td>\n",
       "    </tr>\n",
       "    <tr>\n",
       "      <th>7</th>\n",
       "      <td>City_Chennai</td>\n",
       "      <td>2.068831</td>\n",
       "    </tr>\n",
       "    <tr>\n",
       "      <th>8</th>\n",
       "      <td>City_Delhi</td>\n",
       "      <td>1.847774</td>\n",
       "    </tr>\n",
       "    <tr>\n",
       "      <th>10</th>\n",
       "      <td>City_Kolkata</td>\n",
       "      <td>1.761567</td>\n",
       "    </tr>\n",
       "    <tr>\n",
       "      <th>15</th>\n",
       "      <td>Tenant Preferred_Family</td>\n",
       "      <td>1.669050</td>\n",
       "    </tr>\n",
       "    <tr>\n",
       "      <th>16</th>\n",
       "      <td>Point of Contact_Contact Builder</td>\n",
       "      <td>1.004458</td>\n",
       "    </tr>\n",
       "  </tbody>\n",
       "</table>\n",
       "</div>"
      ],
      "text/plain": [
       "                              Feature        VIF\n",
       "0                                 BHK  25.680885\n",
       "2                            Bathroom  25.117086\n",
       "6                Area Type_Super Area  18.705358\n",
       "5               Area Type_Carpet Area  14.659457\n",
       "1                                Size  10.911050\n",
       "4                         Floor_Count   7.237012\n",
       "17     Point of Contact_Contact Owner   6.442237\n",
       "14  Tenant Preferred_Bachelors/Family   6.094707\n",
       "3                         Floor_Level   5.779480\n",
       "12   Furnishing Status_Semi-Furnished   4.470250\n",
       "13      Furnishing Status_Unfurnished   3.886633\n",
       "11                        City_Mumbai   3.513929\n",
       "9                      City_Hyderabad   2.083495\n",
       "7                        City_Chennai   2.068831\n",
       "8                          City_Delhi   1.847774\n",
       "10                       City_Kolkata   1.761567\n",
       "15            Tenant Preferred_Family   1.669050\n",
       "16   Point of Contact_Contact Builder   1.004458"
      ]
     },
     "execution_count": 58,
     "metadata": {},
     "output_type": "execute_result"
    }
   ],
   "source": [
    "vif = pd.DataFrame()\n",
    "vif['Feature'] = x.columns\n",
    "vif['VIF'] = [variance_inflation_factor(x.values,i) for i in range(x.shape[1])]\n",
    "vif = vif.sort_values('VIF',ascending=False)\n",
    "vif"
   ]
  },
  {
   "cell_type": "markdown",
   "id": "b2bfe536",
   "metadata": {},
   "source": [
    "#### Target variable is normally dist"
   ]
  },
  {
   "cell_type": "code",
   "execution_count": 60,
   "id": "6eadf0f8",
   "metadata": {},
   "outputs": [],
   "source": [
    "from scipy.stats import shapiro\n",
    "# Ho : Data is normally dist => p>0.05\n",
    "# H1 : Data is not normally dist => p<=0.05"
   ]
  },
  {
   "cell_type": "code",
   "execution_count": 82,
   "id": "9b669829",
   "metadata": {},
   "outputs": [
    {
     "name": "stdout",
     "output_type": "stream",
     "text": [
      "0.5475691556930542\n",
      "0.0\n"
     ]
    }
   ],
   "source": [
    "test_stat,p = shapiro(df_dum['Rent'])\n",
    "print(test_stat)\n",
    "print(p)"
   ]
  },
  {
   "cell_type": "code",
   "execution_count": 94,
   "id": "37c8bff2",
   "metadata": {},
   "outputs": [
    {
     "name": "stdout",
     "output_type": "stream",
     "text": [
      "0.9468694925308228\n",
      "2.3573553610873884e-38\n"
     ]
    }
   ],
   "source": [
    "test_stat,p = shapiro(np.log((df_dum['Rent'])))\n",
    "print(test_stat)\n",
    "print(p)"
   ]
  },
  {
   "cell_type": "markdown",
   "id": "9a96ebf4",
   "metadata": {},
   "source": [
    "#### Method to convert non-nomally dist data => normally dist data"
   ]
  },
  {
   "cell_type": "code",
   "execution_count": 95,
   "id": "8dea986a",
   "metadata": {},
   "outputs": [],
   "source": [
    "from scipy.stats import boxcox"
   ]
  },
  {
   "cell_type": "code",
   "execution_count": 97,
   "id": "d0de1017",
   "metadata": {},
   "outputs": [
    {
     "name": "stdout",
     "output_type": "stream",
     "text": [
      "0.9907701015472412\n",
      "4.7318499672903975e-17\n"
     ]
    }
   ],
   "source": [
    "y_new,lamb = boxcox(df_dum['Rent'])\n",
    "test_stat,p = shapiro(y_new)\n",
    "print(test_stat)\n",
    "print(p)"
   ]
  },
  {
   "cell_type": "markdown",
   "id": "2b86d00a",
   "metadata": {},
   "source": [
    "### OLS Model - 1"
   ]
  },
  {
   "cell_type": "code",
   "execution_count": 61,
   "id": "fda56466",
   "metadata": {},
   "outputs": [],
   "source": [
    "x1 = x.copy()\n",
    "y1 = y.copy()"
   ]
  },
  {
   "cell_type": "code",
   "execution_count": 62,
   "id": "c5086f7b",
   "metadata": {},
   "outputs": [
    {
     "data": {
      "text/html": [
       "<table class=\"simpletable\">\n",
       "<caption>OLS Regression Results</caption>\n",
       "<tr>\n",
       "  <th>Dep. Variable:</th>          <td>Rent</td>       <th>  R-squared:         </th> <td>   0.821</td>\n",
       "</tr>\n",
       "<tr>\n",
       "  <th>Model:</th>                   <td>OLS</td>       <th>  Adj. R-squared:    </th> <td>   0.820</td>\n",
       "</tr>\n",
       "<tr>\n",
       "  <th>Method:</th>             <td>Least Squares</td>  <th>  F-statistic:       </th> <td>   1206.</td>\n",
       "</tr>\n",
       "<tr>\n",
       "  <th>Date:</th>             <td>Thu, 07 Dec 2023</td> <th>  Prob (F-statistic):</th>  <td>  0.00</td> \n",
       "</tr>\n",
       "<tr>\n",
       "  <th>Time:</th>                 <td>10:48:22</td>     <th>  Log-Likelihood:    </th> <td> -2252.7</td>\n",
       "</tr>\n",
       "<tr>\n",
       "  <th>No. Observations:</th>      <td>  4746</td>      <th>  AIC:               </th> <td>   4543.</td>\n",
       "</tr>\n",
       "<tr>\n",
       "  <th>Df Residuals:</th>          <td>  4727</td>      <th>  BIC:               </th> <td>   4666.</td>\n",
       "</tr>\n",
       "<tr>\n",
       "  <th>Df Model:</th>              <td>    18</td>      <th>                     </th>     <td> </td>   \n",
       "</tr>\n",
       "<tr>\n",
       "  <th>Covariance Type:</th>      <td>nonrobust</td>    <th>                     </th>     <td> </td>   \n",
       "</tr>\n",
       "</table>\n",
       "<table class=\"simpletable\">\n",
       "<tr>\n",
       "                  <td></td>                     <th>coef</th>     <th>std err</th>      <th>t</th>      <th>P>|t|</th>  <th>[0.025</th>    <th>0.975]</th>  \n",
       "</tr>\n",
       "<tr>\n",
       "  <th>const</th>                             <td>    8.8587</td> <td>    0.277</td> <td>   31.929</td> <td> 0.000</td> <td>    8.315</td> <td>    9.403</td>\n",
       "</tr>\n",
       "<tr>\n",
       "  <th>BHK</th>                               <td>    0.1929</td> <td>    0.013</td> <td>   15.098</td> <td> 0.000</td> <td>    0.168</td> <td>    0.218</td>\n",
       "</tr>\n",
       "<tr>\n",
       "  <th>Size</th>                              <td>    0.0004</td> <td> 1.66e-05</td> <td>   26.901</td> <td> 0.000</td> <td>    0.000</td> <td>    0.000</td>\n",
       "</tr>\n",
       "<tr>\n",
       "  <th>Bathroom</th>                          <td>    0.1746</td> <td>    0.013</td> <td>   13.190</td> <td> 0.000</td> <td>    0.149</td> <td>    0.201</td>\n",
       "</tr>\n",
       "<tr>\n",
       "  <th>Floor_Level</th>                       <td>    0.0034</td> <td>    0.002</td> <td>    1.458</td> <td> 0.145</td> <td>   -0.001</td> <td>    0.008</td>\n",
       "</tr>\n",
       "<tr>\n",
       "  <th>Floor_Count</th>                       <td>    0.0054</td> <td>    0.001</td> <td>    3.866</td> <td> 0.000</td> <td>    0.003</td> <td>    0.008</td>\n",
       "</tr>\n",
       "<tr>\n",
       "  <th>Area Type_Carpet Area</th>             <td>    0.1462</td> <td>    0.276</td> <td>    0.530</td> <td> 0.596</td> <td>   -0.395</td> <td>    0.688</td>\n",
       "</tr>\n",
       "<tr>\n",
       "  <th>Area Type_Super Area</th>              <td>    0.1072</td> <td>    0.276</td> <td>    0.388</td> <td> 0.698</td> <td>   -0.434</td> <td>    0.648</td>\n",
       "</tr>\n",
       "<tr>\n",
       "  <th>City_Chennai</th>                      <td>   -0.0347</td> <td>    0.019</td> <td>   -1.845</td> <td> 0.065</td> <td>   -0.072</td> <td>    0.002</td>\n",
       "</tr>\n",
       "<tr>\n",
       "  <th>City_Delhi</th>                        <td>    0.1936</td> <td>    0.022</td> <td>    8.982</td> <td> 0.000</td> <td>    0.151</td> <td>    0.236</td>\n",
       "</tr>\n",
       "<tr>\n",
       "  <th>City_Hyderabad</th>                    <td>   -0.1499</td> <td>    0.019</td> <td>   -7.844</td> <td> 0.000</td> <td>   -0.187</td> <td>   -0.112</td>\n",
       "</tr>\n",
       "<tr>\n",
       "  <th>City_Kolkata</th>                      <td>   -0.2710</td> <td>    0.023</td> <td>  -11.986</td> <td> 0.000</td> <td>   -0.315</td> <td>   -0.227</td>\n",
       "</tr>\n",
       "<tr>\n",
       "  <th>City_Mumbai</th>                       <td>    0.8834</td> <td>    0.023</td> <td>   37.673</td> <td> 0.000</td> <td>    0.837</td> <td>    0.929</td>\n",
       "</tr>\n",
       "<tr>\n",
       "  <th>Furnishing Status_Semi-Furnished</th>  <td>   -0.1893</td> <td>    0.017</td> <td>  -10.895</td> <td> 0.000</td> <td>   -0.223</td> <td>   -0.155</td>\n",
       "</tr>\n",
       "<tr>\n",
       "  <th>Furnishing Status_Unfurnished</th>     <td>   -0.2852</td> <td>    0.018</td> <td>  -15.803</td> <td> 0.000</td> <td>   -0.321</td> <td>   -0.250</td>\n",
       "</tr>\n",
       "<tr>\n",
       "  <th>Tenant Preferred_Bachelors/Family</th> <td>   -0.0399</td> <td>    0.016</td> <td>   -2.429</td> <td> 0.015</td> <td>   -0.072</td> <td>   -0.008</td>\n",
       "</tr>\n",
       "<tr>\n",
       "  <th>Tenant Preferred_Family</th>           <td>   -0.1148</td> <td>    0.023</td> <td>   -4.951</td> <td> 0.000</td> <td>   -0.160</td> <td>   -0.069</td>\n",
       "</tr>\n",
       "<tr>\n",
       "  <th>Point of Contact_Contact Builder</th>  <td>   -0.4389</td> <td>    0.391</td> <td>   -1.124</td> <td> 0.261</td> <td>   -1.205</td> <td>    0.327</td>\n",
       "</tr>\n",
       "<tr>\n",
       "  <th>Point of Contact_Contact Owner</th>    <td>   -0.3419</td> <td>    0.017</td> <td>  -19.561</td> <td> 0.000</td> <td>   -0.376</td> <td>   -0.308</td>\n",
       "</tr>\n",
       "</table>\n",
       "<table class=\"simpletable\">\n",
       "<tr>\n",
       "  <th>Omnibus:</th>       <td>512.609</td> <th>  Durbin-Watson:     </th> <td>   1.947</td>\n",
       "</tr>\n",
       "<tr>\n",
       "  <th>Prob(Omnibus):</th> <td> 0.000</td>  <th>  Jarque-Bera (JB):  </th> <td>2530.346</td>\n",
       "</tr>\n",
       "<tr>\n",
       "  <th>Skew:</th>          <td> 0.409</td>  <th>  Prob(JB):          </th> <td>    0.00</td>\n",
       "</tr>\n",
       "<tr>\n",
       "  <th>Kurtosis:</th>      <td> 6.482</td>  <th>  Cond. No.          </th> <td>9.50e+04</td>\n",
       "</tr>\n",
       "</table><br/><br/>Notes:<br/>[1] Standard Errors assume that the covariance matrix of the errors is correctly specified.<br/>[2] The condition number is large, 9.5e+04. This might indicate that there are<br/>strong multicollinearity or other numerical problems."
      ],
      "text/plain": [
       "<class 'statsmodels.iolib.summary.Summary'>\n",
       "\"\"\"\n",
       "                            OLS Regression Results                            \n",
       "==============================================================================\n",
       "Dep. Variable:                   Rent   R-squared:                       0.821\n",
       "Model:                            OLS   Adj. R-squared:                  0.820\n",
       "Method:                 Least Squares   F-statistic:                     1206.\n",
       "Date:                Thu, 07 Dec 2023   Prob (F-statistic):               0.00\n",
       "Time:                        10:48:22   Log-Likelihood:                -2252.7\n",
       "No. Observations:                4746   AIC:                             4543.\n",
       "Df Residuals:                    4727   BIC:                             4666.\n",
       "Df Model:                          18                                         \n",
       "Covariance Type:            nonrobust                                         \n",
       "=====================================================================================================\n",
       "                                        coef    std err          t      P>|t|      [0.025      0.975]\n",
       "-----------------------------------------------------------------------------------------------------\n",
       "const                                 8.8587      0.277     31.929      0.000       8.315       9.403\n",
       "BHK                                   0.1929      0.013     15.098      0.000       0.168       0.218\n",
       "Size                                  0.0004   1.66e-05     26.901      0.000       0.000       0.000\n",
       "Bathroom                              0.1746      0.013     13.190      0.000       0.149       0.201\n",
       "Floor_Level                           0.0034      0.002      1.458      0.145      -0.001       0.008\n",
       "Floor_Count                           0.0054      0.001      3.866      0.000       0.003       0.008\n",
       "Area Type_Carpet Area                 0.1462      0.276      0.530      0.596      -0.395       0.688\n",
       "Area Type_Super Area                  0.1072      0.276      0.388      0.698      -0.434       0.648\n",
       "City_Chennai                         -0.0347      0.019     -1.845      0.065      -0.072       0.002\n",
       "City_Delhi                            0.1936      0.022      8.982      0.000       0.151       0.236\n",
       "City_Hyderabad                       -0.1499      0.019     -7.844      0.000      -0.187      -0.112\n",
       "City_Kolkata                         -0.2710      0.023    -11.986      0.000      -0.315      -0.227\n",
       "City_Mumbai                           0.8834      0.023     37.673      0.000       0.837       0.929\n",
       "Furnishing Status_Semi-Furnished     -0.1893      0.017    -10.895      0.000      -0.223      -0.155\n",
       "Furnishing Status_Unfurnished        -0.2852      0.018    -15.803      0.000      -0.321      -0.250\n",
       "Tenant Preferred_Bachelors/Family    -0.0399      0.016     -2.429      0.015      -0.072      -0.008\n",
       "Tenant Preferred_Family              -0.1148      0.023     -4.951      0.000      -0.160      -0.069\n",
       "Point of Contact_Contact Builder     -0.4389      0.391     -1.124      0.261      -1.205       0.327\n",
       "Point of Contact_Contact Owner       -0.3419      0.017    -19.561      0.000      -0.376      -0.308\n",
       "==============================================================================\n",
       "Omnibus:                      512.609   Durbin-Watson:                   1.947\n",
       "Prob(Omnibus):                  0.000   Jarque-Bera (JB):             2530.346\n",
       "Skew:                           0.409   Prob(JB):                         0.00\n",
       "Kurtosis:                       6.482   Cond. No.                     9.50e+04\n",
       "==============================================================================\n",
       "\n",
       "Notes:\n",
       "[1] Standard Errors assume that the covariance matrix of the errors is correctly specified.\n",
       "[2] The condition number is large, 9.5e+04. This might indicate that there are\n",
       "strong multicollinearity or other numerical problems.\n",
       "\"\"\""
      ]
     },
     "execution_count": 62,
     "metadata": {},
     "output_type": "execute_result"
    }
   ],
   "source": [
    "x1 = sm.add_constant(x1)\n",
    "ols_m1 = sm.OLS(y1,x1).fit()\n",
    "ols_m1.summary()"
   ]
  },
  {
   "cell_type": "code",
   "execution_count": 63,
   "id": "94459f3a",
   "metadata": {},
   "outputs": [
    {
     "name": "stdout",
     "output_type": "stream",
     "text": [
      "OLS_M1\n",
      "0.821143156689018\n",
      "0.8204620855700001\n"
     ]
    }
   ],
   "source": [
    "print('OLS_M1')\n",
    "print(ols_m1.rsquared)\n",
    "print(ols_m1.rsquared_adj)"
   ]
  },
  {
   "cell_type": "markdown",
   "id": "35ca432d",
   "metadata": {},
   "source": [
    "#### Inference\n",
    "1) Area Type_Carpet Area, Area Type_Super Area, Point of Contact - Super Area have high p-value"
   ]
  },
  {
   "cell_type": "markdown",
   "id": "8e17943f",
   "metadata": {},
   "source": [
    "### OLS - M2"
   ]
  },
  {
   "cell_type": "code",
   "execution_count": 64,
   "id": "6ac2eaa7",
   "metadata": {},
   "outputs": [],
   "source": [
    "x2 = x.drop(['Area Type_Super Area'],axis=1)\n",
    "y2 = y1.copy()"
   ]
  },
  {
   "cell_type": "code",
   "execution_count": 65,
   "id": "6a2e0724",
   "metadata": {},
   "outputs": [
    {
     "data": {
      "text/html": [
       "<table class=\"simpletable\">\n",
       "<caption>OLS Regression Results</caption>\n",
       "<tr>\n",
       "  <th>Dep. Variable:</th>          <td>Rent</td>       <th>  R-squared:         </th> <td>   0.821</td>\n",
       "</tr>\n",
       "<tr>\n",
       "  <th>Model:</th>                   <td>OLS</td>       <th>  Adj. R-squared:    </th> <td>   0.820</td>\n",
       "</tr>\n",
       "<tr>\n",
       "  <th>Method:</th>             <td>Least Squares</td>  <th>  F-statistic:       </th> <td>   1277.</td>\n",
       "</tr>\n",
       "<tr>\n",
       "  <th>Date:</th>             <td>Thu, 07 Dec 2023</td> <th>  Prob (F-statistic):</th>  <td>  0.00</td> \n",
       "</tr>\n",
       "<tr>\n",
       "  <th>Time:</th>                 <td>10:49:58</td>     <th>  Log-Likelihood:    </th> <td> -2252.8</td>\n",
       "</tr>\n",
       "<tr>\n",
       "  <th>No. Observations:</th>      <td>  4746</td>      <th>  AIC:               </th> <td>   4542.</td>\n",
       "</tr>\n",
       "<tr>\n",
       "  <th>Df Residuals:</th>          <td>  4728</td>      <th>  BIC:               </th> <td>   4658.</td>\n",
       "</tr>\n",
       "<tr>\n",
       "  <th>Df Model:</th>              <td>    17</td>      <th>                     </th>     <td> </td>   \n",
       "</tr>\n",
       "<tr>\n",
       "  <th>Covariance Type:</th>      <td>nonrobust</td>    <th>                     </th>     <td> </td>   \n",
       "</tr>\n",
       "</table>\n",
       "<table class=\"simpletable\">\n",
       "<tr>\n",
       "                  <td></td>                     <th>coef</th>     <th>std err</th>      <th>t</th>      <th>P>|t|</th>  <th>[0.025</th>    <th>0.975]</th>  \n",
       "</tr>\n",
       "<tr>\n",
       "  <th>const</th>                             <td>    8.9656</td> <td>    0.034</td> <td>  261.628</td> <td> 0.000</td> <td>    8.898</td> <td>    9.033</td>\n",
       "</tr>\n",
       "<tr>\n",
       "  <th>BHK</th>                               <td>    0.1929</td> <td>    0.013</td> <td>   15.102</td> <td> 0.000</td> <td>    0.168</td> <td>    0.218</td>\n",
       "</tr>\n",
       "<tr>\n",
       "  <th>Size</th>                              <td>    0.0004</td> <td> 1.66e-05</td> <td>   26.903</td> <td> 0.000</td> <td>    0.000</td> <td>    0.000</td>\n",
       "</tr>\n",
       "<tr>\n",
       "  <th>Bathroom</th>                          <td>    0.1746</td> <td>    0.013</td> <td>   13.191</td> <td> 0.000</td> <td>    0.149</td> <td>    0.201</td>\n",
       "</tr>\n",
       "<tr>\n",
       "  <th>Floor_Level</th>                       <td>    0.0034</td> <td>    0.002</td> <td>    1.453</td> <td> 0.146</td> <td>   -0.001</td> <td>    0.008</td>\n",
       "</tr>\n",
       "<tr>\n",
       "  <th>Floor_Count</th>                       <td>    0.0054</td> <td>    0.001</td> <td>    3.869</td> <td> 0.000</td> <td>    0.003</td> <td>    0.008</td>\n",
       "</tr>\n",
       "<tr>\n",
       "  <th>Area Type_Carpet Area</th>             <td>    0.0391</td> <td>    0.015</td> <td>    2.685</td> <td> 0.007</td> <td>    0.011</td> <td>    0.068</td>\n",
       "</tr>\n",
       "<tr>\n",
       "  <th>City_Chennai</th>                      <td>   -0.0348</td> <td>    0.019</td> <td>   -1.852</td> <td> 0.064</td> <td>   -0.072</td> <td>    0.002</td>\n",
       "</tr>\n",
       "<tr>\n",
       "  <th>City_Delhi</th>                        <td>    0.1936</td> <td>    0.022</td> <td>    8.983</td> <td> 0.000</td> <td>    0.151</td> <td>    0.236</td>\n",
       "</tr>\n",
       "<tr>\n",
       "  <th>City_Hyderabad</th>                    <td>   -0.1500</td> <td>    0.019</td> <td>   -7.852</td> <td> 0.000</td> <td>   -0.187</td> <td>   -0.113</td>\n",
       "</tr>\n",
       "<tr>\n",
       "  <th>City_Kolkata</th>                      <td>   -0.2709</td> <td>    0.023</td> <td>  -11.987</td> <td> 0.000</td> <td>   -0.315</td> <td>   -0.227</td>\n",
       "</tr>\n",
       "<tr>\n",
       "  <th>City_Mumbai</th>                       <td>    0.8834</td> <td>    0.023</td> <td>   37.677</td> <td> 0.000</td> <td>    0.837</td> <td>    0.929</td>\n",
       "</tr>\n",
       "<tr>\n",
       "  <th>Furnishing Status_Semi-Furnished</th>  <td>   -0.1891</td> <td>    0.017</td> <td>  -10.889</td> <td> 0.000</td> <td>   -0.223</td> <td>   -0.155</td>\n",
       "</tr>\n",
       "<tr>\n",
       "  <th>Furnishing Status_Unfurnished</th>     <td>   -0.2851</td> <td>    0.018</td> <td>  -15.800</td> <td> 0.000</td> <td>   -0.320</td> <td>   -0.250</td>\n",
       "</tr>\n",
       "<tr>\n",
       "  <th>Tenant Preferred_Bachelors/Family</th> <td>   -0.0399</td> <td>    0.016</td> <td>   -2.431</td> <td> 0.015</td> <td>   -0.072</td> <td>   -0.008</td>\n",
       "</tr>\n",
       "<tr>\n",
       "  <th>Tenant Preferred_Family</th>           <td>   -0.1148</td> <td>    0.023</td> <td>   -4.951</td> <td> 0.000</td> <td>   -0.160</td> <td>   -0.069</td>\n",
       "</tr>\n",
       "<tr>\n",
       "  <th>Point of Contact_Contact Builder</th>  <td>   -0.4387</td> <td>    0.391</td> <td>   -1.123</td> <td> 0.261</td> <td>   -1.204</td> <td>    0.327</td>\n",
       "</tr>\n",
       "<tr>\n",
       "  <th>Point of Contact_Contact Owner</th>    <td>   -0.3418</td> <td>    0.017</td> <td>  -19.562</td> <td> 0.000</td> <td>   -0.376</td> <td>   -0.308</td>\n",
       "</tr>\n",
       "</table>\n",
       "<table class=\"simpletable\">\n",
       "<tr>\n",
       "  <th>Omnibus:</th>       <td>512.737</td> <th>  Durbin-Watson:     </th> <td>   1.947</td>\n",
       "</tr>\n",
       "<tr>\n",
       "  <th>Prob(Omnibus):</th> <td> 0.000</td>  <th>  Jarque-Bera (JB):  </th> <td>2530.317</td>\n",
       "</tr>\n",
       "<tr>\n",
       "  <th>Skew:</th>          <td> 0.409</td>  <th>  Prob(JB):          </th> <td>    0.00</td>\n",
       "</tr>\n",
       "<tr>\n",
       "  <th>Kurtosis:</th>      <td> 6.482</td>  <th>  Cond. No.          </th> <td>7.76e+04</td>\n",
       "</tr>\n",
       "</table><br/><br/>Notes:<br/>[1] Standard Errors assume that the covariance matrix of the errors is correctly specified.<br/>[2] The condition number is large, 7.76e+04. This might indicate that there are<br/>strong multicollinearity or other numerical problems."
      ],
      "text/plain": [
       "<class 'statsmodels.iolib.summary.Summary'>\n",
       "\"\"\"\n",
       "                            OLS Regression Results                            \n",
       "==============================================================================\n",
       "Dep. Variable:                   Rent   R-squared:                       0.821\n",
       "Model:                            OLS   Adj. R-squared:                  0.820\n",
       "Method:                 Least Squares   F-statistic:                     1277.\n",
       "Date:                Thu, 07 Dec 2023   Prob (F-statistic):               0.00\n",
       "Time:                        10:49:58   Log-Likelihood:                -2252.8\n",
       "No. Observations:                4746   AIC:                             4542.\n",
       "Df Residuals:                    4728   BIC:                             4658.\n",
       "Df Model:                          17                                         \n",
       "Covariance Type:            nonrobust                                         \n",
       "=====================================================================================================\n",
       "                                        coef    std err          t      P>|t|      [0.025      0.975]\n",
       "-----------------------------------------------------------------------------------------------------\n",
       "const                                 8.9656      0.034    261.628      0.000       8.898       9.033\n",
       "BHK                                   0.1929      0.013     15.102      0.000       0.168       0.218\n",
       "Size                                  0.0004   1.66e-05     26.903      0.000       0.000       0.000\n",
       "Bathroom                              0.1746      0.013     13.191      0.000       0.149       0.201\n",
       "Floor_Level                           0.0034      0.002      1.453      0.146      -0.001       0.008\n",
       "Floor_Count                           0.0054      0.001      3.869      0.000       0.003       0.008\n",
       "Area Type_Carpet Area                 0.0391      0.015      2.685      0.007       0.011       0.068\n",
       "City_Chennai                         -0.0348      0.019     -1.852      0.064      -0.072       0.002\n",
       "City_Delhi                            0.1936      0.022      8.983      0.000       0.151       0.236\n",
       "City_Hyderabad                       -0.1500      0.019     -7.852      0.000      -0.187      -0.113\n",
       "City_Kolkata                         -0.2709      0.023    -11.987      0.000      -0.315      -0.227\n",
       "City_Mumbai                           0.8834      0.023     37.677      0.000       0.837       0.929\n",
       "Furnishing Status_Semi-Furnished     -0.1891      0.017    -10.889      0.000      -0.223      -0.155\n",
       "Furnishing Status_Unfurnished        -0.2851      0.018    -15.800      0.000      -0.320      -0.250\n",
       "Tenant Preferred_Bachelors/Family    -0.0399      0.016     -2.431      0.015      -0.072      -0.008\n",
       "Tenant Preferred_Family              -0.1148      0.023     -4.951      0.000      -0.160      -0.069\n",
       "Point of Contact_Contact Builder     -0.4387      0.391     -1.123      0.261      -1.204       0.327\n",
       "Point of Contact_Contact Owner       -0.3418      0.017    -19.562      0.000      -0.376      -0.308\n",
       "==============================================================================\n",
       "Omnibus:                      512.737   Durbin-Watson:                   1.947\n",
       "Prob(Omnibus):                  0.000   Jarque-Bera (JB):             2530.317\n",
       "Skew:                           0.409   Prob(JB):                         0.00\n",
       "Kurtosis:                       6.482   Cond. No.                     7.76e+04\n",
       "==============================================================================\n",
       "\n",
       "Notes:\n",
       "[1] Standard Errors assume that the covariance matrix of the errors is correctly specified.\n",
       "[2] The condition number is large, 7.76e+04. This might indicate that there are\n",
       "strong multicollinearity or other numerical problems.\n",
       "\"\"\""
      ]
     },
     "execution_count": 65,
     "metadata": {},
     "output_type": "execute_result"
    }
   ],
   "source": [
    "x2 = sm.add_constant(x2)\n",
    "ols_m2 = sm.OLS(y2,x2).fit()\n",
    "ols_m2.summary()"
   ]
  },
  {
   "cell_type": "code",
   "execution_count": 66,
   "id": "e3eff1b9",
   "metadata": {
    "scrolled": true
   },
   "outputs": [
    {
     "name": "stdout",
     "output_type": "stream",
     "text": [
      "OLS_M1\n",
      "0.821143156689018\n",
      "0.8204620855700001\n",
      "OLS_M2\n",
      "0.8211374485401325\n",
      "0.8204943302290458\n"
     ]
    }
   ],
   "source": [
    "print('OLS_M1')\n",
    "print(ols_m1.rsquared)\n",
    "print(ols_m1.rsquared_adj)\n",
    "\n",
    "print('OLS_M2')\n",
    "print(ols_m2.rsquared)\n",
    "print(ols_m2.rsquared_adj)"
   ]
  },
  {
   "cell_type": "markdown",
   "id": "9136da7c",
   "metadata": {},
   "source": [
    "#### Split data into train and test"
   ]
  },
  {
   "cell_type": "code",
   "execution_count": 67,
   "id": "dc13c204",
   "metadata": {},
   "outputs": [
    {
     "name": "stdout",
     "output_type": "stream",
     "text": [
      "(3322, 18)\n",
      "(1424, 18)\n",
      "(3322,)\n",
      "(1424,)\n"
     ]
    }
   ],
   "source": [
    "x_train,x_test, y_train,y_test = train_test_split(x,y,test_size=0.30,random_state=100)\n",
    "print(x_train.shape)\n",
    "print(x_test.shape)\n",
    "print(y_train.shape)\n",
    "print(y_test.shape)"
   ]
  },
  {
   "cell_type": "code",
   "execution_count": 68,
   "id": "421b9c3a",
   "metadata": {},
   "outputs": [],
   "source": [
    "from sklearn.metrics import *\n",
    "\n",
    "def eval_model(ytest,ypred):\n",
    "    mae = mean_absolute_error(ytest,ypred)\n",
    "    mse = mean_squared_error(ytest,ypred)\n",
    "    rmse = np.sqrt(mse)\n",
    "    r2s = r2_score(ytest,ypred)\n",
    "    print('MAE',mae)\n",
    "    print('MSE',mse)\n",
    "    print('RMSE',rmse)\n",
    "    print('R2_Score',r2s)"
   ]
  },
  {
   "cell_type": "markdown",
   "id": "241ec1ba",
   "metadata": {},
   "source": [
    "### 1) Linear Regression"
   ]
  },
  {
   "cell_type": "code",
   "execution_count": 69,
   "id": "67edc375",
   "metadata": {},
   "outputs": [
    {
     "data": {
      "text/html": [
       "<style>#sk-container-id-1 {color: black;background-color: white;}#sk-container-id-1 pre{padding: 0;}#sk-container-id-1 div.sk-toggleable {background-color: white;}#sk-container-id-1 label.sk-toggleable__label {cursor: pointer;display: block;width: 100%;margin-bottom: 0;padding: 0.3em;box-sizing: border-box;text-align: center;}#sk-container-id-1 label.sk-toggleable__label-arrow:before {content: \"▸\";float: left;margin-right: 0.25em;color: #696969;}#sk-container-id-1 label.sk-toggleable__label-arrow:hover:before {color: black;}#sk-container-id-1 div.sk-estimator:hover label.sk-toggleable__label-arrow:before {color: black;}#sk-container-id-1 div.sk-toggleable__content {max-height: 0;max-width: 0;overflow: hidden;text-align: left;background-color: #f0f8ff;}#sk-container-id-1 div.sk-toggleable__content pre {margin: 0.2em;color: black;border-radius: 0.25em;background-color: #f0f8ff;}#sk-container-id-1 input.sk-toggleable__control:checked~div.sk-toggleable__content {max-height: 200px;max-width: 100%;overflow: auto;}#sk-container-id-1 input.sk-toggleable__control:checked~label.sk-toggleable__label-arrow:before {content: \"▾\";}#sk-container-id-1 div.sk-estimator input.sk-toggleable__control:checked~label.sk-toggleable__label {background-color: #d4ebff;}#sk-container-id-1 div.sk-label input.sk-toggleable__control:checked~label.sk-toggleable__label {background-color: #d4ebff;}#sk-container-id-1 input.sk-hidden--visually {border: 0;clip: rect(1px 1px 1px 1px);clip: rect(1px, 1px, 1px, 1px);height: 1px;margin: -1px;overflow: hidden;padding: 0;position: absolute;width: 1px;}#sk-container-id-1 div.sk-estimator {font-family: monospace;background-color: #f0f8ff;border: 1px dotted black;border-radius: 0.25em;box-sizing: border-box;margin-bottom: 0.5em;}#sk-container-id-1 div.sk-estimator:hover {background-color: #d4ebff;}#sk-container-id-1 div.sk-parallel-item::after {content: \"\";width: 100%;border-bottom: 1px solid gray;flex-grow: 1;}#sk-container-id-1 div.sk-label:hover label.sk-toggleable__label {background-color: #d4ebff;}#sk-container-id-1 div.sk-serial::before {content: \"\";position: absolute;border-left: 1px solid gray;box-sizing: border-box;top: 0;bottom: 0;left: 50%;z-index: 0;}#sk-container-id-1 div.sk-serial {display: flex;flex-direction: column;align-items: center;background-color: white;padding-right: 0.2em;padding-left: 0.2em;position: relative;}#sk-container-id-1 div.sk-item {position: relative;z-index: 1;}#sk-container-id-1 div.sk-parallel {display: flex;align-items: stretch;justify-content: center;background-color: white;position: relative;}#sk-container-id-1 div.sk-item::before, #sk-container-id-1 div.sk-parallel-item::before {content: \"\";position: absolute;border-left: 1px solid gray;box-sizing: border-box;top: 0;bottom: 0;left: 50%;z-index: -1;}#sk-container-id-1 div.sk-parallel-item {display: flex;flex-direction: column;z-index: 1;position: relative;background-color: white;}#sk-container-id-1 div.sk-parallel-item:first-child::after {align-self: flex-end;width: 50%;}#sk-container-id-1 div.sk-parallel-item:last-child::after {align-self: flex-start;width: 50%;}#sk-container-id-1 div.sk-parallel-item:only-child::after {width: 0;}#sk-container-id-1 div.sk-dashed-wrapped {border: 1px dashed gray;margin: 0 0.4em 0.5em 0.4em;box-sizing: border-box;padding-bottom: 0.4em;background-color: white;}#sk-container-id-1 div.sk-label label {font-family: monospace;font-weight: bold;display: inline-block;line-height: 1.2em;}#sk-container-id-1 div.sk-label-container {text-align: center;}#sk-container-id-1 div.sk-container {/* jupyter's `normalize.less` sets `[hidden] { display: none; }` but bootstrap.min.css set `[hidden] { display: none !important; }` so we also need the `!important` here to be able to override the default hidden behavior on the sphinx rendered scikit-learn.org. See: https://github.com/scikit-learn/scikit-learn/issues/21755 */display: inline-block !important;position: relative;}#sk-container-id-1 div.sk-text-repr-fallback {display: none;}</style><div id=\"sk-container-id-1\" class=\"sk-top-container\"><div class=\"sk-text-repr-fallback\"><pre>LinearRegression()</pre><b>In a Jupyter environment, please rerun this cell to show the HTML representation or trust the notebook. <br />On GitHub, the HTML representation is unable to render, please try loading this page with nbviewer.org.</b></div><div class=\"sk-container\" hidden><div class=\"sk-item\"><div class=\"sk-estimator sk-toggleable\"><input class=\"sk-toggleable__control sk-hidden--visually\" id=\"sk-estimator-id-1\" type=\"checkbox\" checked><label for=\"sk-estimator-id-1\" class=\"sk-toggleable__label sk-toggleable__label-arrow\">LinearRegression</label><div class=\"sk-toggleable__content\"><pre>LinearRegression()</pre></div></div></div></div></div>"
      ],
      "text/plain": [
       "LinearRegression()"
      ]
     },
     "execution_count": 69,
     "metadata": {},
     "output_type": "execute_result"
    }
   ],
   "source": [
    "lr1 = LinearRegression()\n",
    "lr1.fit(x_train,y_train)   # model is trained on training data"
   ]
  },
  {
   "cell_type": "code",
   "execution_count": 70,
   "id": "68909ca7",
   "metadata": {},
   "outputs": [
    {
     "name": "stdout",
     "output_type": "stream",
     "text": [
      "MAE 0.2953636724009048\n",
      "MSE 0.15626587443246576\n",
      "RMSE 0.39530478675632774\n",
      "R2_Score 0.8152867776476598\n"
     ]
    }
   ],
   "source": [
    "ypred_lr1 = lr1.predict(x_test)\n",
    "eval_model(y_test,ypred_lr1)"
   ]
  },
  {
   "cell_type": "code",
   "execution_count": 73,
   "id": "322357ff",
   "metadata": {},
   "outputs": [
    {
     "name": "stdout",
     "output_type": "stream",
     "text": [
      "Train Score 0.8231255730025318\n",
      "Test Score 0.8152867776476598\n"
     ]
    }
   ],
   "source": [
    "print('Train Score',lr1.score(x_train,y_train))\n",
    "print('Test Score',lr1.score(x_test,y_test))"
   ]
  },
  {
   "cell_type": "code",
   "execution_count": 74,
   "id": "5bc62411",
   "metadata": {},
   "outputs": [
    {
     "name": "stdout",
     "output_type": "stream",
     "text": [
      "[ 1.85839405e-01  4.75469492e-04  1.69692018e-01  1.90336538e-03\n",
      "  5.84837712e-03  1.23984852e-01  9.01630397e-02 -3.94548200e-02\n",
      "  1.94879045e-01 -1.48408540e-01 -2.68089676e-01  8.95447304e-01\n",
      " -2.08392468e-01 -3.03506165e-01 -1.83781298e-02 -9.66153177e-02\n",
      " -4.44560941e-01 -3.40092066e-01]\n"
     ]
    }
   ],
   "source": [
    "print(lr1.coef_)"
   ]
  },
  {
   "cell_type": "markdown",
   "id": "c7243602",
   "metadata": {},
   "source": [
    "#### Overtting and Underfitting\n",
    "\n",
    "1) Overfitting<br>\n",
    "a) Model with high train score and comparatively low test score.<br>\n",
    "b) Model with high variance and low bias.\n",
    "\n",
    "\n",
    "2) Underfitting<br>\n",
    "a) Model with high test score and comparatively low train score.<br>\n",
    "b) Model with low variance and high bias.\n",
    "\n",
    "Bias varaince TradeOff<br>\n",
    "1) Bais and Variance are inversely proprotaional."
   ]
  },
  {
   "cell_type": "code",
   "execution_count": 75,
   "id": "f268df09",
   "metadata": {},
   "outputs": [],
   "source": [
    "from sklearn.linear_model import Ridge, Lasso"
   ]
  },
  {
   "cell_type": "code",
   "execution_count": 76,
   "id": "918d6e5a",
   "metadata": {},
   "outputs": [
    {
     "data": {
      "text/html": [
       "<style>#sk-container-id-2 {color: black;background-color: white;}#sk-container-id-2 pre{padding: 0;}#sk-container-id-2 div.sk-toggleable {background-color: white;}#sk-container-id-2 label.sk-toggleable__label {cursor: pointer;display: block;width: 100%;margin-bottom: 0;padding: 0.3em;box-sizing: border-box;text-align: center;}#sk-container-id-2 label.sk-toggleable__label-arrow:before {content: \"▸\";float: left;margin-right: 0.25em;color: #696969;}#sk-container-id-2 label.sk-toggleable__label-arrow:hover:before {color: black;}#sk-container-id-2 div.sk-estimator:hover label.sk-toggleable__label-arrow:before {color: black;}#sk-container-id-2 div.sk-toggleable__content {max-height: 0;max-width: 0;overflow: hidden;text-align: left;background-color: #f0f8ff;}#sk-container-id-2 div.sk-toggleable__content pre {margin: 0.2em;color: black;border-radius: 0.25em;background-color: #f0f8ff;}#sk-container-id-2 input.sk-toggleable__control:checked~div.sk-toggleable__content {max-height: 200px;max-width: 100%;overflow: auto;}#sk-container-id-2 input.sk-toggleable__control:checked~label.sk-toggleable__label-arrow:before {content: \"▾\";}#sk-container-id-2 div.sk-estimator input.sk-toggleable__control:checked~label.sk-toggleable__label {background-color: #d4ebff;}#sk-container-id-2 div.sk-label input.sk-toggleable__control:checked~label.sk-toggleable__label {background-color: #d4ebff;}#sk-container-id-2 input.sk-hidden--visually {border: 0;clip: rect(1px 1px 1px 1px);clip: rect(1px, 1px, 1px, 1px);height: 1px;margin: -1px;overflow: hidden;padding: 0;position: absolute;width: 1px;}#sk-container-id-2 div.sk-estimator {font-family: monospace;background-color: #f0f8ff;border: 1px dotted black;border-radius: 0.25em;box-sizing: border-box;margin-bottom: 0.5em;}#sk-container-id-2 div.sk-estimator:hover {background-color: #d4ebff;}#sk-container-id-2 div.sk-parallel-item::after {content: \"\";width: 100%;border-bottom: 1px solid gray;flex-grow: 1;}#sk-container-id-2 div.sk-label:hover label.sk-toggleable__label {background-color: #d4ebff;}#sk-container-id-2 div.sk-serial::before {content: \"\";position: absolute;border-left: 1px solid gray;box-sizing: border-box;top: 0;bottom: 0;left: 50%;z-index: 0;}#sk-container-id-2 div.sk-serial {display: flex;flex-direction: column;align-items: center;background-color: white;padding-right: 0.2em;padding-left: 0.2em;position: relative;}#sk-container-id-2 div.sk-item {position: relative;z-index: 1;}#sk-container-id-2 div.sk-parallel {display: flex;align-items: stretch;justify-content: center;background-color: white;position: relative;}#sk-container-id-2 div.sk-item::before, #sk-container-id-2 div.sk-parallel-item::before {content: \"\";position: absolute;border-left: 1px solid gray;box-sizing: border-box;top: 0;bottom: 0;left: 50%;z-index: -1;}#sk-container-id-2 div.sk-parallel-item {display: flex;flex-direction: column;z-index: 1;position: relative;background-color: white;}#sk-container-id-2 div.sk-parallel-item:first-child::after {align-self: flex-end;width: 50%;}#sk-container-id-2 div.sk-parallel-item:last-child::after {align-self: flex-start;width: 50%;}#sk-container-id-2 div.sk-parallel-item:only-child::after {width: 0;}#sk-container-id-2 div.sk-dashed-wrapped {border: 1px dashed gray;margin: 0 0.4em 0.5em 0.4em;box-sizing: border-box;padding-bottom: 0.4em;background-color: white;}#sk-container-id-2 div.sk-label label {font-family: monospace;font-weight: bold;display: inline-block;line-height: 1.2em;}#sk-container-id-2 div.sk-label-container {text-align: center;}#sk-container-id-2 div.sk-container {/* jupyter's `normalize.less` sets `[hidden] { display: none; }` but bootstrap.min.css set `[hidden] { display: none !important; }` so we also need the `!important` here to be able to override the default hidden behavior on the sphinx rendered scikit-learn.org. See: https://github.com/scikit-learn/scikit-learn/issues/21755 */display: inline-block !important;position: relative;}#sk-container-id-2 div.sk-text-repr-fallback {display: none;}</style><div id=\"sk-container-id-2\" class=\"sk-top-container\"><div class=\"sk-text-repr-fallback\"><pre>Ridge(alpha=6.2)</pre><b>In a Jupyter environment, please rerun this cell to show the HTML representation or trust the notebook. <br />On GitHub, the HTML representation is unable to render, please try loading this page with nbviewer.org.</b></div><div class=\"sk-container\" hidden><div class=\"sk-item\"><div class=\"sk-estimator sk-toggleable\"><input class=\"sk-toggleable__control sk-hidden--visually\" id=\"sk-estimator-id-2\" type=\"checkbox\" checked><label for=\"sk-estimator-id-2\" class=\"sk-toggleable__label sk-toggleable__label-arrow\">Ridge</label><div class=\"sk-toggleable__content\"><pre>Ridge(alpha=6.2)</pre></div></div></div></div></div>"
      ],
      "text/plain": [
       "Ridge(alpha=6.2)"
      ]
     },
     "execution_count": 76,
     "metadata": {},
     "output_type": "execute_result"
    }
   ],
   "source": [
    "rid1 = Ridge(alpha = 6.2)\n",
    "rid1.fit(x_train,y_train)"
   ]
  },
  {
   "cell_type": "code",
   "execution_count": 77,
   "id": "6077b081",
   "metadata": {},
   "outputs": [
    {
     "name": "stdout",
     "output_type": "stream",
     "text": [
      "LinReg\n",
      "Train Score 0.8231255730025318\n",
      "Test Score 0.8152867776476598\n",
      "Ridge\n",
      "Train Score 0.823017822772634\n",
      "Test Score 0.8154449413703038\n"
     ]
    }
   ],
   "source": [
    "print('LinReg')\n",
    "print('Train Score',lr1.score(x_train,y_train))\n",
    "print('Test Score',lr1.score(x_test,y_test))\n",
    "print('Ridge')\n",
    "print('Train Score',rid1.score(x_train,y_train))\n",
    "print('Test Score',rid1.score(x_test,y_test))"
   ]
  },
  {
   "cell_type": "code",
   "execution_count": 78,
   "id": "497d3c50",
   "metadata": {},
   "outputs": [
    {
     "name": "stdout",
     "output_type": "stream",
     "text": [
      "[ 1.85839405e-01  4.75469492e-04  1.69692018e-01  1.90336538e-03\n",
      "  5.84837712e-03  1.23984852e-01  9.01630397e-02 -3.94548200e-02\n",
      "  1.94879045e-01 -1.48408540e-01 -2.68089676e-01  8.95447304e-01\n",
      " -2.08392468e-01 -3.03506165e-01 -1.83781298e-02 -9.66153177e-02\n",
      " -4.44560941e-01 -3.40092066e-01]\n",
      "[ 1.83273339e-01  4.73255837e-04  1.72678315e-01  2.12423520e-03\n",
      "  6.24976743e-03  2.71179772e-02 -1.04200994e-02 -4.48420381e-02\n",
      "  1.87012895e-01 -1.53434188e-01 -2.68079812e-01  8.73158917e-01\n",
      " -2.03355883e-01 -2.97173046e-01 -1.60885238e-02 -9.13107823e-02\n",
      " -6.17721798e-02 -3.39213402e-01]\n"
     ]
    }
   ],
   "source": [
    "print(lr1.coef_)\n",
    "print(rid1.coef_)"
   ]
  },
  {
   "cell_type": "markdown",
   "id": "82b03305",
   "metadata": {},
   "source": [
    "#### Lasso"
   ]
  },
  {
   "cell_type": "code",
   "execution_count": 85,
   "id": "4ff0f7cd",
   "metadata": {},
   "outputs": [
    {
     "data": {
      "text/html": [
       "<style>#sk-container-id-5 {color: black;background-color: white;}#sk-container-id-5 pre{padding: 0;}#sk-container-id-5 div.sk-toggleable {background-color: white;}#sk-container-id-5 label.sk-toggleable__label {cursor: pointer;display: block;width: 100%;margin-bottom: 0;padding: 0.3em;box-sizing: border-box;text-align: center;}#sk-container-id-5 label.sk-toggleable__label-arrow:before {content: \"▸\";float: left;margin-right: 0.25em;color: #696969;}#sk-container-id-5 label.sk-toggleable__label-arrow:hover:before {color: black;}#sk-container-id-5 div.sk-estimator:hover label.sk-toggleable__label-arrow:before {color: black;}#sk-container-id-5 div.sk-toggleable__content {max-height: 0;max-width: 0;overflow: hidden;text-align: left;background-color: #f0f8ff;}#sk-container-id-5 div.sk-toggleable__content pre {margin: 0.2em;color: black;border-radius: 0.25em;background-color: #f0f8ff;}#sk-container-id-5 input.sk-toggleable__control:checked~div.sk-toggleable__content {max-height: 200px;max-width: 100%;overflow: auto;}#sk-container-id-5 input.sk-toggleable__control:checked~label.sk-toggleable__label-arrow:before {content: \"▾\";}#sk-container-id-5 div.sk-estimator input.sk-toggleable__control:checked~label.sk-toggleable__label {background-color: #d4ebff;}#sk-container-id-5 div.sk-label input.sk-toggleable__control:checked~label.sk-toggleable__label {background-color: #d4ebff;}#sk-container-id-5 input.sk-hidden--visually {border: 0;clip: rect(1px 1px 1px 1px);clip: rect(1px, 1px, 1px, 1px);height: 1px;margin: -1px;overflow: hidden;padding: 0;position: absolute;width: 1px;}#sk-container-id-5 div.sk-estimator {font-family: monospace;background-color: #f0f8ff;border: 1px dotted black;border-radius: 0.25em;box-sizing: border-box;margin-bottom: 0.5em;}#sk-container-id-5 div.sk-estimator:hover {background-color: #d4ebff;}#sk-container-id-5 div.sk-parallel-item::after {content: \"\";width: 100%;border-bottom: 1px solid gray;flex-grow: 1;}#sk-container-id-5 div.sk-label:hover label.sk-toggleable__label {background-color: #d4ebff;}#sk-container-id-5 div.sk-serial::before {content: \"\";position: absolute;border-left: 1px solid gray;box-sizing: border-box;top: 0;bottom: 0;left: 50%;z-index: 0;}#sk-container-id-5 div.sk-serial {display: flex;flex-direction: column;align-items: center;background-color: white;padding-right: 0.2em;padding-left: 0.2em;position: relative;}#sk-container-id-5 div.sk-item {position: relative;z-index: 1;}#sk-container-id-5 div.sk-parallel {display: flex;align-items: stretch;justify-content: center;background-color: white;position: relative;}#sk-container-id-5 div.sk-item::before, #sk-container-id-5 div.sk-parallel-item::before {content: \"\";position: absolute;border-left: 1px solid gray;box-sizing: border-box;top: 0;bottom: 0;left: 50%;z-index: -1;}#sk-container-id-5 div.sk-parallel-item {display: flex;flex-direction: column;z-index: 1;position: relative;background-color: white;}#sk-container-id-5 div.sk-parallel-item:first-child::after {align-self: flex-end;width: 50%;}#sk-container-id-5 div.sk-parallel-item:last-child::after {align-self: flex-start;width: 50%;}#sk-container-id-5 div.sk-parallel-item:only-child::after {width: 0;}#sk-container-id-5 div.sk-dashed-wrapped {border: 1px dashed gray;margin: 0 0.4em 0.5em 0.4em;box-sizing: border-box;padding-bottom: 0.4em;background-color: white;}#sk-container-id-5 div.sk-label label {font-family: monospace;font-weight: bold;display: inline-block;line-height: 1.2em;}#sk-container-id-5 div.sk-label-container {text-align: center;}#sk-container-id-5 div.sk-container {/* jupyter's `normalize.less` sets `[hidden] { display: none; }` but bootstrap.min.css set `[hidden] { display: none !important; }` so we also need the `!important` here to be able to override the default hidden behavior on the sphinx rendered scikit-learn.org. See: https://github.com/scikit-learn/scikit-learn/issues/21755 */display: inline-block !important;position: relative;}#sk-container-id-5 div.sk-text-repr-fallback {display: none;}</style><div id=\"sk-container-id-5\" class=\"sk-top-container\"><div class=\"sk-text-repr-fallback\"><pre>Lasso(alpha=0.0052)</pre><b>In a Jupyter environment, please rerun this cell to show the HTML representation or trust the notebook. <br />On GitHub, the HTML representation is unable to render, please try loading this page with nbviewer.org.</b></div><div class=\"sk-container\" hidden><div class=\"sk-item\"><div class=\"sk-estimator sk-toggleable\"><input class=\"sk-toggleable__control sk-hidden--visually\" id=\"sk-estimator-id-5\" type=\"checkbox\" checked><label for=\"sk-estimator-id-5\" class=\"sk-toggleable__label sk-toggleable__label-arrow\">Lasso</label><div class=\"sk-toggleable__content\"><pre>Lasso(alpha=0.0052)</pre></div></div></div></div></div>"
      ],
      "text/plain": [
       "Lasso(alpha=0.0052)"
      ]
     },
     "execution_count": 85,
     "metadata": {},
     "output_type": "execute_result"
    }
   ],
   "source": [
    "lasso1 = Lasso(alpha = 0.0052)\n",
    "lasso1.fit(x_train,y_train)"
   ]
  },
  {
   "cell_type": "code",
   "execution_count": 86,
   "id": "caada391",
   "metadata": {},
   "outputs": [
    {
     "name": "stdout",
     "output_type": "stream",
     "text": [
      "LinReg\n",
      "Train Score 0.8231255730025318\n",
      "Test Score 0.8152867776476598\n",
      "Ridge\n",
      "Train Score 0.823017822772634\n",
      "Test Score 0.8154449413703038\n",
      "Lasso\n",
      "Train Score 0.8203721494098679\n",
      "Test Score 0.8132356101643972\n"
     ]
    }
   ],
   "source": [
    "print('LinReg')\n",
    "print('Train Score',lr1.score(x_train,y_train))\n",
    "print('Test Score',lr1.score(x_test,y_test))\n",
    "print('Ridge')\n",
    "print('Train Score',rid1.score(x_train,y_train))\n",
    "print('Test Score',rid1.score(x_test,y_test))\n",
    "print('Lasso')\n",
    "print('Train Score',lasso1.score(x_train,y_train))\n",
    "print('Test Score',lasso1.score(x_test,y_test))"
   ]
  },
  {
   "cell_type": "code",
   "execution_count": 87,
   "id": "19338f9a",
   "metadata": {},
   "outputs": [
    {
     "name": "stdout",
     "output_type": "stream",
     "text": [
      "[ 1.63973490e-01  4.84491027e-04  1.74547800e-01  2.58539223e-03\n",
      "  7.32249410e-03  2.48725187e-02 -0.00000000e+00 -0.00000000e+00\n",
      "  1.93476482e-01 -1.00143579e-01 -1.87819643e-01  8.77271277e-01\n",
      " -1.26830849e-01 -2.26138216e-01  0.00000000e+00 -1.79876175e-02\n",
      " -0.00000000e+00 -3.39884384e-01]\n"
     ]
    }
   ],
   "source": [
    "print(lasso1.coef_)"
   ]
  },
  {
   "cell_type": "markdown",
   "id": "72b23644",
   "metadata": {},
   "source": [
    "#### Actual Prediction"
   ]
  },
  {
   "cell_type": "code",
   "execution_count": 88,
   "id": "ea825ad1",
   "metadata": {},
   "outputs": [
    {
     "data": {
      "text/plain": [
       "array([ 8700.11798927, 34019.52228047, 15598.41997923, 25475.9655214 ,\n",
       "       40759.49725822, 20660.10841294,  8877.83996635, 29958.38822372,\n",
       "       22021.22106057, 26975.00292974])"
      ]
     },
     "execution_count": 88,
     "metadata": {},
     "output_type": "execute_result"
    }
   ],
   "source": [
    "ypred_act = np.exp(ypred_lr1)\n",
    "ypred_act[:10]"
   ]
  },
  {
   "cell_type": "code",
   "execution_count": 89,
   "id": "9b649db2",
   "metadata": {},
   "outputs": [
    {
     "data": {
      "text/plain": [
       "array([ 9.07109187, 10.43468982,  9.6549249 , 10.14549076, 10.61544415,\n",
       "        9.93595999,  9.09131356, 10.30756464,  9.99976186, 10.2026659 ])"
      ]
     },
     "execution_count": 89,
     "metadata": {},
     "output_type": "execute_result"
    }
   ],
   "source": [
    "ypred_lr1[:10]"
   ]
  },
  {
   "cell_type": "code",
   "execution_count": null,
   "id": "14b8dd2d",
   "metadata": {},
   "outputs": [],
   "source": []
  }
 ],
 "metadata": {
  "kernelspec": {
   "display_name": "Python 3 (ipykernel)",
   "language": "python",
   "name": "python3"
  },
  "language_info": {
   "codemirror_mode": {
    "name": "ipython",
    "version": 3
   },
   "file_extension": ".py",
   "mimetype": "text/x-python",
   "name": "python",
   "nbconvert_exporter": "python",
   "pygments_lexer": "ipython3",
   "version": "3.10.9"
  }
 },
 "nbformat": 4,
 "nbformat_minor": 5
}
